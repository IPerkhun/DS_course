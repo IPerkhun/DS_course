{
 "cells": [
  {
   "cell_type": "markdown",
   "metadata": {},
   "source": [
    "### Load data"
   ]
  },
  {
   "cell_type": "code",
   "execution_count": null,
   "metadata": {},
   "outputs": [],
   "source": [
    "import os\n",
    "import pandas as pd\n",
    "import re"
   ]
  },
  {
   "cell_type": "code",
   "execution_count": null,
   "metadata": {},
   "outputs": [],
   "source": [
    "def get_text(path):\n",
    "    with open(path) as f:\n",
    "        data = f.read()\n",
    "    return data\n",
    "\n",
    "\n",
    "\n",
    "path_train_neg = '../res/aclImdb/train/neg/'\n",
    "path_train_pos = '../res/aclImdb/train/pos/'\n",
    "\n",
    "train = [{'Class': 0, 'text': get_text(path_train_neg + x), } for x in os.listdir(path_train_neg)]\\\n",
    "+ [{'Class': 1, 'text': get_text(path_train_pos + x)} for x in os.listdir(path_train_pos)]\n",
    "\n",
    "\n",
    "path_test_neg = '../res/aclImdb/test/neg/'\n",
    "path_test_pos = '../res/aclImdb/test/pos/'\n",
    "\n",
    "\n",
    "test = [{'Class': 0, 'text': get_text(path_test_neg + x), } for x in os.listdir(path_test_neg)]\\\n",
    "+ [{'Class': 1, 'text': get_text(path_test_pos + x)} for x in os.listdir(path_test_pos)]"
   ]
  },
  {
   "cell_type": "code",
   "execution_count": null,
   "metadata": {},
   "outputs": [],
   "source": [
    "df = pd.DataFrame(train)"
   ]
  },
  {
   "cell_type": "code",
   "execution_count": null,
   "metadata": {
    "scrolled": false
   },
   "outputs": [],
   "source": [
    "from nltk import word_tokenize\n",
    "\n",
    "\n",
    "def preprocess_reviews(reviews):\n",
    "    reviews = re.sub(\"(<br\\s*/><br\\s*/>)|(\\-)|(\\/)\", ' ', reviews)\n",
    "    return \" \".join(reviews.split())\n",
    "\n",
    "df.text = df.text.apply(preprocess_reviews)\n",
    "df['tokenize'] = df.text.apply(word_tokenize)\n"
   ]
  },
  {
   "cell_type": "code",
   "execution_count": null,
   "metadata": {
    "scrolled": false
   },
   "outputs": [],
   "source": [
    "from nltk import word_tokenize\n",
    "from nltk.stem import WordNetLemmatizer \n",
    "from nltk.corpus import stopwords\n",
    "\n",
    "\n",
    "wnl = WordNetLemmatizer()\n",
    "def lemmatizer(tokens):\n",
    "    res = []\n",
    "    for token in tokens:\n",
    "        token = re.sub(\"[\\W\\d]\", '', token.lower())\n",
    "        if token not in stopwords.words('english') and token != '':\n",
    "            if wnl.lemmatize(token, pos='v') == token:\n",
    "                res.append(wnl.lemmatize(token, pos='n'))\n",
    "            else:\n",
    "                res.append(wnl.lemmatize(token, pos='v'))\n",
    "        else:\n",
    "            continue\n",
    "    return res\n",
    "\n",
    "df['clean_review'] = df.tokenize.apply(lemmatizer, )\n",
    "df.to_json('data.json')"
   ]
  },
  {
   "cell_type": "code",
   "execution_count": 16,
   "metadata": {},
   "outputs": [
    {
     "data": {
      "text/html": [
       "<div>\n",
       "<style scoped>\n",
       "    .dataframe tbody tr th:only-of-type {\n",
       "        vertical-align: middle;\n",
       "    }\n",
       "\n",
       "    .dataframe tbody tr th {\n",
       "        vertical-align: top;\n",
       "    }\n",
       "\n",
       "    .dataframe thead th {\n",
       "        text-align: right;\n",
       "    }\n",
       "</style>\n",
       "<table border=\"1\" class=\"dataframe\">\n",
       "  <thead>\n",
       "    <tr style=\"text-align: right;\">\n",
       "      <th></th>\n",
       "      <th>Class</th>\n",
       "      <th>text</th>\n",
       "      <th>tokenize</th>\n",
       "      <th>clean_review</th>\n",
       "    </tr>\n",
       "  </thead>\n",
       "  <tbody>\n",
       "    <tr>\n",
       "      <th>0</th>\n",
       "      <td>0</td>\n",
       "      <td>Working with one of the best Shakespeare sourc...</td>\n",
       "      <td>[Working, with, one, of, the, best, Shakespear...</td>\n",
       "      <td>work one best shakespeare source film manage c...</td>\n",
       "    </tr>\n",
       "    <tr>\n",
       "      <th>1</th>\n",
       "      <td>0</td>\n",
       "      <td>Well...tremors I, the original started off in ...</td>\n",
       "      <td>[Well, ..., tremors, I, ,, the, original, star...</td>\n",
       "      <td>well tremor original start find movie quite en...</td>\n",
       "    </tr>\n",
       "    <tr>\n",
       "      <th>10</th>\n",
       "      <td>0</td>\n",
       "      <td>I felt brain dead, I'll tell you. This is the ...</td>\n",
       "      <td>[I, felt, brain, dead, ,, I, 'll, tell, you, ....</td>\n",
       "      <td>felt brain dead tell worst film ever buy ignor...</td>\n",
       "    </tr>\n",
       "    <tr>\n",
       "      <th>100</th>\n",
       "      <td>0</td>\n",
       "      <td>Really an amazing pile of pap! A predictable, ...</td>\n",
       "      <td>[Really, an, amazing, pile, of, pap, !, A, pre...</td>\n",
       "      <td>really amaze pile pap predictable slow move so...</td>\n",
       "    </tr>\n",
       "    <tr>\n",
       "      <th>1000</th>\n",
       "      <td>0</td>\n",
       "      <td>From everything I'd read about the movie, I wa...</td>\n",
       "      <td>[From, everything, I, 'd, read, about, the, mo...</td>\n",
       "      <td>everything read movie excite support film chri...</td>\n",
       "    </tr>\n",
       "  </tbody>\n",
       "</table>\n",
       "</div>"
      ],
      "text/plain": [
       "      Class                                               text  \\\n",
       "0         0  Working with one of the best Shakespeare sourc...   \n",
       "1         0  Well...tremors I, the original started off in ...   \n",
       "10        0  I felt brain dead, I'll tell you. This is the ...   \n",
       "100       0  Really an amazing pile of pap! A predictable, ...   \n",
       "1000      0  From everything I'd read about the movie, I wa...   \n",
       "\n",
       "                                               tokenize  \\\n",
       "0     [Working, with, one, of, the, best, Shakespear...   \n",
       "1     [Well, ..., tremors, I, ,, the, original, star...   \n",
       "10    [I, felt, brain, dead, ,, I, 'll, tell, you, ....   \n",
       "100   [Really, an, amazing, pile, of, pap, !, A, pre...   \n",
       "1000  [From, everything, I, 'd, read, about, the, mo...   \n",
       "\n",
       "                                           clean_review  \n",
       "0     work one best shakespeare source film manage c...  \n",
       "1     well tremor original start find movie quite en...  \n",
       "10    felt brain dead tell worst film ever buy ignor...  \n",
       "100   really amaze pile pap predictable slow move so...  \n",
       "1000  everything read movie excite support film chri...  "
      ]
     },
     "execution_count": 16,
     "metadata": {},
     "output_type": "execute_result"
    }
   ],
   "source": [
    "import pandas as pd\n",
    "\n",
    "df = pd.read_json('../res/data.json', )\n",
    "df['clean_review'] = df.clean_review.apply(' '.join)\n",
    "df.head()"
   ]
  },
  {
   "cell_type": "code",
   "execution_count": 17,
   "metadata": {},
   "outputs": [],
   "source": [
    "from sklearn.model_selection import train_test_split\n",
    "df = df.sample(5000)\n",
    "x = df.clean_review\n",
    "y = df.Class\n",
    "x_train, x_test, y_train, y_test = train_test_split(x, y, test_size=0.9)"
   ]
  },
  {
   "cell_type": "markdown",
   "metadata": {},
   "source": [
    "### Term "
   ]
  },
  {
   "cell_type": "code",
   "execution_count": 29,
   "metadata": {},
   "outputs": [],
   "source": [
    "from nltk import word_tokenize\n",
    "from collections import Counter\n",
    "\n",
    "def get_top_terms(reviews, n):\n",
    "    res = []\n",
    "    for i in reviews:\n",
    "        tokens = word_tokenize(i)\n",
    "        res.extend(tokens)\n",
    "    res = Counter(res)\n",
    "    return res.most_common(n)\n",
    "\n",
    "neg = list(df[(df.Class == 1)]['clean_review'])\n",
    "pos = list(df[(df.Class == 0)]['clean_review'])\n",
    "\n",
    "top_negative_terms = pd.DataFrame.from_records(get_top_terms(neg, 10), columns=['word', 'freq'])\n",
    "top_positive_terms = pd.DataFrame.from_records(get_top_terms(pos, 10), columns=['word', 'freq'])\n",
    "\n"
   ]
  },
  {
   "cell_type": "code",
   "execution_count": 31,
   "metadata": {},
   "outputs": [
    {
     "data": {
      "text/plain": [
       "<matplotlib.axes._subplots.AxesSubplot at 0x15caa4d50>"
      ]
     },
     "execution_count": 31,
     "metadata": {},
     "output_type": "execute_result"
    },
    {
     "data": {
      "image/png": "[encoded data removed]",
      "text/plain": [
       "<Figure size 720x720 with 1 Axes>"
      ]
     },
     "metadata": {
      "needs_background": "light"
     },
     "output_type": "display_data"
    },
    {
     "data": {
      "image/png": "[encoded data removed]",
      "text/plain": [
       "<Figure size 720x720 with 1 Axes>"
      ]
     },
     "metadata": {
      "needs_background": "light"
     },
     "output_type": "display_data"
    }
   ],
   "source": [
    "from matplotlib import pyplot as plt\n",
    "\n",
    "top_negative_terms.plot(kind='barh', x='word', figsize=(10,10))\n",
    "top_positive_terms.plot(kind='barh', x='word', figsize=(10,10))"
   ]
  },
  {
   "cell_type": "code",
   "execution_count": 21,
   "metadata": {},
   "outputs": [],
   "source": [
    "from nltk.corpus import stopwords\n",
    "stop_words = list((set(top_negative_terms.word) & set(top_positive_terms.word))|set(stopwords.words('english')))"
   ]
  },
  {
   "cell_type": "markdown",
   "metadata": {},
   "source": [
    "### Naive Bayes"
   ]
  },
  {
   "cell_type": "code",
   "execution_count": 22,
   "metadata": {},
   "outputs": [
    {
     "name": "stdout",
     "output_type": "stream",
     "text": [
      "Best Score:  0.78\n",
      "{'clf__alpha': 14285.71437142857, 'clf__fit_prior': False, 'vect__max_features': 2550, 'vect__ngram_range': (1, 1)}\n",
      "accuracy before 0.8031111111111111\n",
      "              precision    recall  f1-score   support\n",
      "\n",
      "           0       0.86      0.73      0.79      2277\n",
      "           1       0.76      0.88      0.82      2223\n",
      "\n",
      "    accuracy                           0.80      4500\n",
      "   macro avg       0.81      0.80      0.80      4500\n",
      "weighted avg       0.81      0.80      0.80      4500\n",
      "\n",
      "accuracy after 0.8064444444444444\n",
      "              precision    recall  f1-score   support\n",
      "\n",
      "           0       0.86      0.74      0.79      2277\n",
      "           1       0.77      0.87      0.82      2223\n",
      "\n",
      "    accuracy                           0.81      4500\n",
      "   macro avg       0.81      0.81      0.81      4500\n",
      "weighted avg       0.81      0.81      0.81      4500\n",
      "\n"
     ]
    }
   ],
   "source": [
    "from sklearn.naive_bayes import MultinomialNB\n",
    "from sklearn.pipeline import Pipeline\n",
    "from sklearn.feature_extraction.text import TfidfTransformer, CountVectorizer\n",
    "from sklearn.model_selection import GridSearchCV\n",
    "import numpy as np\n",
    "from sklearn.metrics import classification_report, accuracy_score\n",
    "\n",
    "\n",
    "nb = Pipeline([('vect', CountVectorizer(ngram_range=(1, 2), max_features = 5000, stop_words = stop_words)),\n",
    "               ('tfidf', TfidfTransformer()),\n",
    "               ('clf', MultinomialNB())\n",
    "              ])\n",
    "\n",
    "nb.fit(x_train, y_train)\n",
    "\n",
    "grid_params = {\n",
    "    'clf__alpha': np.linspace(1e-4, 1e+5, 8),\n",
    "    'clf__fit_prior': [True, False],\n",
    "    'vect__ngram_range': [(1, 1), (1, 2)],\n",
    "    'vect__max_features': np.linspace(100, 5000, 5, dtype = np.int)\n",
    "}\n",
    "\n",
    "\n",
    "clf = GridSearchCV(nb, grid_params, cv = 5, n_jobs=-1)\n",
    "clf.fit(x_train, y_train)\n",
    "print(\"Best Score: \", clf.best_score_)\n",
    "print(clf.best_params_)\n",
    "\n",
    "y_pred = nb.predict(x_test)\n",
    "print('accuracy before %s' % accuracy_score(y_pred, y_test))\n",
    "print(classification_report(y_test, y_pred))\n",
    "\n",
    "y_pred = clf.best_estimator_.predict(x_test)\n",
    "print('accuracy after %s' % accuracy_score(y_pred, y_test))\n",
    "print(classification_report(y_test, y_pred))"
   ]
  },
  {
   "cell_type": "code",
   "execution_count": 23,
   "metadata": {
    "scrolled": false
   },
   "outputs": [
    {
     "name": "stdout",
     "output_type": "stream",
     "text": [
      "Best Score:  0.674\n",
      "{'clf__var_smoothing': 1e-09, 'vect__max_features': 100, 'vect__ngram_range': (1, 1)}\n",
      "accuracy before 0.6268888888888889\n",
      "              precision    recall  f1-score   support\n",
      "\n",
      "           0       0.66      0.54      0.59      2277\n",
      "           1       0.60      0.72      0.65      2223\n",
      "\n",
      "    accuracy                           0.63      4500\n",
      "   macro avg       0.63      0.63      0.62      4500\n",
      "weighted avg       0.63      0.63      0.62      4500\n",
      "\n",
      "accuracy after 0.6788888888888889\n",
      "              precision    recall  f1-score   support\n",
      "\n",
      "           0       0.68      0.68      0.68      2277\n",
      "           1       0.68      0.67      0.67      2223\n",
      "\n",
      "    accuracy                           0.68      4500\n",
      "   macro avg       0.68      0.68      0.68      4500\n",
      "weighted avg       0.68      0.68      0.68      4500\n",
      "\n"
     ]
    }
   ],
   "source": [
    "from sklearn.naive_bayes import GaussianNB\n",
    "from sklearn.pipeline import Pipeline\n",
    "from sklearn.feature_extraction.text import TfidfTransformer, CountVectorizer\n",
    "from sklearn.model_selection import GridSearchCV\n",
    "import numpy as np\n",
    "from sklearn.preprocessing import FunctionTransformer\n",
    "\n",
    "\n",
    "nb = Pipeline([('vect', CountVectorizer(ngram_range=(1, 2), max_features = 5000, stop_words = stop_words)),\n",
    "               ('tfidf', TfidfTransformer()),\n",
    "               ('to_dense', FunctionTransformer(lambda x: x.todense(), accept_sparse=True)), \n",
    "               ('clf', GaussianNB())\n",
    "              ])\n",
    "\n",
    "nb.fit(x_train, y_train)\n",
    "\n",
    "grid_params = {\n",
    "    'clf__var_smoothing': np.linspace(1e-9, 1e+5, 8),\n",
    "    'vect__ngram_range': [(1, 1), (1, 2)],\n",
    "    'vect__max_features': np.linspace(100, 5000, 5, dtype = np.int)\n",
    "}\n",
    "\n",
    "\n",
    "clf = GridSearchCV(nb, grid_params, cv = 5, n_jobs=-1)\n",
    "clf.fit(x_train, y_train)\n",
    "print(\"Best Score: \", clf.best_score_)\n",
    "print(clf.best_params_)\n",
    "\n",
    "y_pred = nb.predict(x_test)\n",
    "print('accuracy before %s' % accuracy_score(y_pred, y_test))\n",
    "print(classification_report(y_test, y_pred))\n",
    "\n",
    "y_pred = clf.best_estimator_.predict(x_test)\n",
    "print('accuracy after %s' % accuracy_score(y_pred, y_test))\n",
    "print(classification_report(y_test, y_pred))"
   ]
  },
  {
   "cell_type": "code",
   "execution_count": 24,
   "metadata": {},
   "outputs": [
    {
     "name": "stdout",
     "output_type": "stream",
     "text": [
      "Best Score:  0.752\n",
      "{'clf__alpha': 0.0001, 'vect__max_features': 1325, 'vect__ngram_range': (1, 2)}\n",
      "accuracy before 0.5046666666666667\n",
      "              precision    recall  f1-score   support\n",
      "\n",
      "           0       1.00      0.02      0.04      2277\n",
      "           1       0.50      1.00      0.67      2223\n",
      "\n",
      "    accuracy                           0.50      4500\n",
      "   macro avg       0.75      0.51      0.35      4500\n",
      "weighted avg       0.75      0.50      0.35      4500\n",
      "\n",
      "accuracy after 0.7682222222222223\n",
      "              precision    recall  f1-score   support\n",
      "\n",
      "           0       0.81      0.71      0.76      2277\n",
      "           1       0.74      0.82      0.78      2223\n",
      "\n",
      "    accuracy                           0.77      4500\n",
      "   macro avg       0.77      0.77      0.77      4500\n",
      "weighted avg       0.77      0.77      0.77      4500\n",
      "\n"
     ]
    }
   ],
   "source": [
    "from sklearn.naive_bayes import BernoulliNB\n",
    "from sklearn.pipeline import Pipeline\n",
    "from sklearn.feature_extraction.text import TfidfTransformer, CountVectorizer\n",
    "from sklearn.model_selection import GridSearchCV\n",
    "import numpy as np\n",
    "from sklearn.preprocessing import FunctionTransformer\n",
    "\n",
    "\n",
    "nb = Pipeline([('vect', CountVectorizer(ngram_range=(1, 2), max_features = 5000, stop_words = stop_words)),\n",
    "               ('tfidf', TfidfTransformer()),\n",
    "               ('clf', BernoulliNB(binarize = None))\n",
    "              ])\n",
    "\n",
    "nb.fit(x_train, y_train)\n",
    "\n",
    "grid_params = {\n",
    "    'clf__alpha': np.linspace(1e-4, 1e+5, 8),\n",
    "    'vect__ngram_range': [(1, 1), (1, 2)],\n",
    "    'vect__max_features': np.linspace(100, 5000, 5, dtype = np.int)\n",
    "}\n",
    "\n",
    "\n",
    "clf = GridSearchCV(nb, grid_params, cv = 5, n_jobs=-1)\n",
    "clf.fit(x_train, y_train)\n",
    "print(\"Best Score: \", clf.best_score_)\n",
    "print(clf.best_params_)\n",
    "\n",
    "y_pred = nb.predict(x_test)\n",
    "print('accuracy before %s' % accuracy_score(y_pred, y_test))\n",
    "print(classification_report(y_test, y_pred))\n",
    "\n",
    "y_pred = clf.best_estimator_.predict(x_test)\n",
    "print('accuracy after %s' % accuracy_score(y_pred, y_test))\n",
    "print(classification_report(y_test, y_pred))"
   ]
  },
  {
   "cell_type": "code",
   "execution_count": 25,
   "metadata": {},
   "outputs": [
    {
     "name": "stdout",
     "output_type": "stream",
     "text": [
      "Best Score:  0.786\n",
      "{'clf__alpha': 14285.71437142857, 'clf__fit_prior': True, 'vect__max_features': 2000, 'vect__ngram_range': (1, 1)}\n",
      "accuracy before 0.8084444444444444\n",
      "              precision    recall  f1-score   support\n",
      "\n",
      "           0       0.83      0.78      0.80      2277\n",
      "           1       0.79      0.84      0.81      2223\n",
      "\n",
      "    accuracy                           0.81      4500\n",
      "   macro avg       0.81      0.81      0.81      4500\n",
      "weighted avg       0.81      0.81      0.81      4500\n",
      "\n",
      "accuracy after 0.8066666666666666\n",
      "              precision    recall  f1-score   support\n",
      "\n",
      "           0       0.84      0.76      0.80      2277\n",
      "           1       0.78      0.86      0.81      2223\n",
      "\n",
      "    accuracy                           0.81      4500\n",
      "   macro avg       0.81      0.81      0.81      4500\n",
      "weighted avg       0.81      0.81      0.81      4500\n",
      "\n"
     ]
    }
   ],
   "source": [
    "from sklearn.naive_bayes import ComplementNB\n",
    "from sklearn.pipeline import Pipeline\n",
    "from sklearn.feature_extraction.text import TfidfTransformer, CountVectorizer\n",
    "from sklearn.model_selection import GridSearchCV\n",
    "import numpy as np\n",
    "from sklearn.preprocessing import FunctionTransformer\n",
    "\n",
    "\n",
    "nb = Pipeline([('vect', CountVectorizer(max_features = 5000, stop_words = stop_words)),\n",
    "               ('tfidf', TfidfTransformer()),\n",
    "               ('clf', ComplementNB())\n",
    "              ])\n",
    "\n",
    "nb.fit(x_train, y_train)\n",
    "\n",
    "grid_params = {\n",
    "    'clf__alpha': np.linspace(1e-4, 1e+5, 8),\n",
    "    'clf__fit_prior': [True, False],\n",
    "    'vect__ngram_range': [(1, 1), (1, 2)],\n",
    "    'vect__max_features': np.linspace(1000, 5000, 5, dtype = np.int),\n",
    "}\n",
    "\n",
    "clf = GridSearchCV(nb, grid_params, cv = 5, n_jobs=-1)\n",
    "clf.fit(x_train, y_train)\n",
    "print(\"Best Score: \", clf.best_score_)\n",
    "print(clf.best_params_)\n",
    "\n",
    "y_pred = nb.predict(x_test)\n",
    "print('accuracy before %s' % accuracy_score(y_pred, y_test))\n",
    "print(classification_report(y_test, y_pred))\n",
    "\n",
    "y_pred = clf.best_estimator_.predict(x_test)\n",
    "print('accuracy after %s' % accuracy_score(y_pred, y_test))\n",
    "print(classification_report(y_test, y_pred))"
   ]
  },
  {
   "cell_type": "markdown",
   "metadata": {},
   "source": [
    "## SGDClassifier"
   ]
  },
  {
   "cell_type": "code",
   "execution_count": 26,
   "metadata": {},
   "outputs": [
    {
     "name": "stdout",
     "output_type": "stream",
     "text": [
      "Best Score:  0.774\n",
      "{'clf__alpha': 0.0001, 'clf__penalty': 'l1', 'vect__max_features': 3000, 'vect__ngram_range': (1, 2)}\n",
      "accuracy 0.7926666666666666\n",
      "              precision    recall  f1-score   support\n",
      "\n",
      "           0       0.81      0.78      0.79      2277\n",
      "           1       0.78      0.81      0.79      2223\n",
      "\n",
      "    accuracy                           0.79      4500\n",
      "   macro avg       0.79      0.79      0.79      4500\n",
      "weighted avg       0.79      0.79      0.79      4500\n",
      "\n",
      "accuracy after 0.7755555555555556\n",
      "              precision    recall  f1-score   support\n",
      "\n",
      "           0       0.79      0.75      0.77      2277\n",
      "           1       0.76      0.80      0.78      2223\n",
      "\n",
      "    accuracy                           0.78      4500\n",
      "   macro avg       0.78      0.78      0.78      4500\n",
      "weighted avg       0.78      0.78      0.78      4500\n",
      "\n"
     ]
    }
   ],
   "source": [
    "from sklearn.linear_model import SGDClassifier\n",
    "from sklearn.pipeline import Pipeline\n",
    "from sklearn.feature_extraction.text import TfidfTransformer, CountVectorizer\n",
    "\n",
    "sgdc = Pipeline([('vect', CountVectorizer(ngram_range=(1, 1), max_features = 5000, stop_words = stop_words)),\n",
    "               ('tfidf', TfidfTransformer()),\n",
    "               ('clf', SGDClassifier())\n",
    "              ])\n",
    "\n",
    "sgdc.fit(x_train, y_train)\n",
    "\n",
    "grid_params = {\n",
    "    'clf__alpha':  np.linspace(1e-4, 1e+5, 8),\n",
    "    'clf__penalty': ['l2', 'l1'],\n",
    "    'vect__ngram_range': [(1, 1), (1, 2)],\n",
    "    'vect__max_features': np.linspace(1000, 5000, 5, dtype = np.int),\n",
    "}\n",
    "\n",
    "clf = GridSearchCV(sgdc, grid_params, cv = 5, n_jobs=-1)\n",
    "clf.fit(x_train, y_train)\n",
    "print(\"Best Score: \", clf.best_score_)\n",
    "print(clf.best_params_)\n",
    "\n",
    "y_pred = sgdc.predict(x_test)\n",
    "print('accuracy %s' % accuracy_score(y_pred, y_test))\n",
    "print(classification_report(y_test, y_pred))\n",
    "\n",
    "y_pred = clf.best_estimator_.predict(x_test)\n",
    "print('accuracy after %s' % accuracy_score(y_pred, y_test))\n",
    "print(classification_report(y_test, y_pred))"
   ]
  },
  {
   "cell_type": "code",
   "execution_count": 27,
   "metadata": {},
   "outputs": [
    {
     "name": "stdout",
     "output_type": "stream",
     "text": [
      "Fitting 3 folds for each of 1280 candidates, totalling 3840 fits\n"
     ]
    },
    {
     "name": "stderr",
     "output_type": "stream",
     "text": [
      "[Parallel(n_jobs=-1)]: Using backend LokyBackend with 4 concurrent workers.\n",
      "[Parallel(n_jobs=-1)]: Done  42 tasks      | elapsed:    8.4s\n",
      "[Parallel(n_jobs=-1)]: Done 192 tasks      | elapsed:   29.0s\n",
      "[Parallel(n_jobs=-1)]: Done 442 tasks      | elapsed:   58.8s\n",
      "[Parallel(n_jobs=-1)]: Done 792 tasks      | elapsed:  1.7min\n",
      "[Parallel(n_jobs=-1)]: Done 1242 tasks      | elapsed:  2.6min\n",
      "[Parallel(n_jobs=-1)]: Done 1792 tasks      | elapsed:  3.9min\n",
      "[Parallel(n_jobs=-1)]: Done 2442 tasks      | elapsed:  5.2min\n",
      "[Parallel(n_jobs=-1)]: Done 3192 tasks      | elapsed:  6.8min\n",
      "[Parallel(n_jobs=-1)]: Done 3840 out of 3840 | elapsed:  8.5min finished\n"
     ]
    },
    {
     "name": "stdout",
     "output_type": "stream",
     "text": [
      "Best Score:  0.7899622441863262\n",
      "Best Params:  {'clf__C': 14285.71437142857, 'clf__degree': 2, 'clf__gamma': 'scale', 'clf__kernel': 'rbf', 'clf__max_iter': 5000, 'vect__max_features': 1000, 'vect__ngram_range': (1, 2)}\n",
      "accuracy 0.7966666666666666\n",
      "              precision    recall  f1-score   support\n",
      "\n",
      "           0       0.88      0.69      0.78      2277\n",
      "           1       0.74      0.90      0.81      2223\n",
      "\n",
      "    accuracy                           0.80      4500\n",
      "   macro avg       0.81      0.80      0.79      4500\n",
      "weighted avg       0.81      0.80      0.79      4500\n",
      "\n",
      "accuracy after 0.792\n",
      "              precision    recall  f1-score   support\n",
      "\n",
      "           0       0.82      0.75      0.79      2277\n",
      "           1       0.77      0.83      0.80      2223\n",
      "\n",
      "    accuracy                           0.79      4500\n",
      "   macro avg       0.79      0.79      0.79      4500\n",
      "weighted avg       0.79      0.79      0.79      4500\n",
      "\n"
     ]
    }
   ],
   "source": [
    "from sklearn.svm import SVC\n",
    "from sklearn.pipeline import Pipeline\n",
    "from sklearn.feature_extraction.text import TfidfTransformer, CountVectorizer\n",
    "\n",
    "svm = Pipeline([('vect', CountVectorizer(ngram_range=(1, 1), max_features = 5000, stop_words = stop_words)),\n",
    "               ('tfidf', TfidfTransformer()),\n",
    "               ('clf', SVC(max_iter = 5000, kernel = 'rbf'))\n",
    "              ])\n",
    "\n",
    "svm.fit(x_train, y_train)\n",
    "\n",
    "grid_params = {\n",
    "    \n",
    "    'clf__C':  np.linspace(1e-4, 1e+5, 8),\n",
    "    'clf__kernel':  ['sigmoid', 'linear', 'poly', 'rbf'],\n",
    "    'clf__degree': [2, 3],\n",
    "    'clf__max_iter': [5000],\n",
    "    'clf__gamma': ['scale', 'auto'],\n",
    "    'vect__ngram_range': [(1, 1), (1, 2)],\n",
    "    'vect__max_features': np.linspace(1000, 5000, 5, dtype = np.int)\n",
    "    \n",
    "}\n",
    "\n",
    "clf = GridSearchCV(svm, grid_params, cv = 3, verbose= True, n_jobs=-1)\n",
    "clf.fit(x_train, y_train)\n",
    "print(\"Best Score: \", clf.best_score_)\n",
    "print(\"Best Params: \", clf.best_params_)\n",
    "\n",
    "y_pred = svm.predict(x_test)\n",
    "print('accuracy %s' % accuracy_score(y_pred, y_test))\n",
    "print(classification_report(y_test, y_pred))\n",
    "\n",
    "y_pred = clf.best_estimator_.predict(x_test)\n",
    "print('accuracy after %s' % accuracy_score(y_pred, y_test))\n",
    "print(classification_report(y_test, y_pred))"
   ]
  },
  {
   "cell_type": "markdown",
   "metadata": {},
   "source": [
    "- Лучше всего себя покзаал MultinomialNB класификатор\n",
    "- В качетсве стоп слов использовалось пересечения множетсва полпулярных нег. и позит. терминов вместе с стандартными набором английских стоп слов\n",
    "____\n",
    "`\n",
    "Best Score:  0.806\n",
    "Best Params:  \n",
    "'clf__C': 14285.7143, \n",
    "'clf__fit_prior': False, \n",
    "'clf__max_iter': 5000, \n",
    "'vect__max_features': 2550, \n",
    "'vect__ngram_range': (1, 1)\n",
    "`\n",
    "\n"
   ]
  },
  {
   "cell_type": "code",
   "execution_count": null,
   "metadata": {},
   "outputs": [],
   "source": []
  },
  {
   "cell_type": "code",
   "execution_count": null,
   "metadata": {},
   "outputs": [],
   "source": []
  },
  {
   "cell_type": "code",
   "execution_count": null,
   "metadata": {},
   "outputs": [],
   "source": []
  },
  {
   "cell_type": "code",
   "execution_count": null,
   "metadata": {},
   "outputs": [],
   "source": []
  },
  {
   "cell_type": "code",
   "execution_count": null,
   "metadata": {},
   "outputs": [],
   "source": []
  }
 ],
 "metadata": {
  "kernelspec": {
   "display_name": "Python 3",
   "language": "python",
   "name": "python3"
  },
  "language_info": {
   "codemirror_mode": {
    "name": "ipython",
    "version": 3
   },
   "file_extension": ".py",
   "mimetype": "text/x-python",
   "name": "python",
   "nbconvert_exporter": "python",
   "pygments_lexer": "ipython3",
   "version": "3.7.5"
  }
 },
 "nbformat": 4,
 "nbformat_minor": 2
}
