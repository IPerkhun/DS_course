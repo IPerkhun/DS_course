{
 "cells": [
  {
   "cell_type": "code",
   "execution_count": 1,
   "metadata": {},
   "outputs": [],
   "source": [
    "import numpy as np\n",
    "import pandas as pd\n"
   ]
  },
  {
   "cell_type": "code",
   "execution_count": 2,
   "metadata": {},
   "outputs": [
    {
     "name": "stdout",
     "output_type": "stream",
     "text": [
      "<class 'pandas.core.frame.DataFrame'>\n",
      "RangeIndex: 3772 entries, 0 to 3771\n",
      "Data columns (total 28 columns):\n",
      "age                          3771 non-null float64\n",
      "sex                          3622 non-null object\n",
      "on_thyroxine                 3772 non-null object\n",
      "query_on_thyroxine           3772 non-null object\n",
      "on_antithyroid_medication    3772 non-null object\n",
      "sick                         3772 non-null object\n",
      "pregnant                     3772 non-null object\n",
      "thyroid_surgery              3772 non-null object\n",
      "I131_treatment               3772 non-null object\n",
      "query_hypothyroid            3772 non-null object\n",
      "query_hyperthyroid           3772 non-null object\n",
      "lithium                      3772 non-null object\n",
      "goitre                       3772 non-null object\n",
      "tumor                        3772 non-null object\n",
      "hypopituitary                3772 non-null object\n",
      "psych                        3772 non-null object\n",
      "TSH_measured                 3772 non-null object\n",
      "TSH                          3403 non-null float64\n",
      "T3_measured                  3772 non-null object\n",
      "T3                           3003 non-null float64\n",
      "TT4_measured                 3772 non-null object\n",
      "TT4                          3541 non-null float64\n",
      "T4U_measured                 3772 non-null object\n",
      "T4U                          3385 non-null float64\n",
      "FTI_measured                 3772 non-null object\n",
      "FTI                          3387 non-null float64\n",
      "referral_source              3772 non-null object\n",
      "Class                        3772 non-null object\n",
      "dtypes: float64(6), object(22)\n",
      "memory usage: 825.2+ KB\n"
     ]
    }
   ],
   "source": [
    "path = '../res/dataset_57_hypothyroid.csv'\n",
    "df = pd.read_csv(path, na_values='?')\n",
    "df = df.drop(columns=['TBG', 'TBG_measured'])\n",
    "df.info()"
   ]
  },
  {
   "cell_type": "code",
   "execution_count": 3,
   "metadata": {},
   "outputs": [
    {
     "data": {
      "text/plain": [
       "negative                   3480\n",
       "compensated_hypothyroid     194\n",
       "primary_hypothyroid          95\n",
       "Name: Class, dtype: int64"
      ]
     },
     "execution_count": 3,
     "metadata": {},
     "output_type": "execute_result"
    }
   ],
   "source": [
    "df = df.drop(df[df.Class == 'secondary_hypothyroid'].index)\n",
    "df = df[(df['hypopituitary'] != 't')]\n",
    "df.Class.value_counts()"
   ]
  },
  {
   "cell_type": "code",
   "execution_count": null,
   "metadata": {},
   "outputs": [],
   "source": []
  },
  {
   "cell_type": "code",
   "execution_count": 4,
   "metadata": {},
   "outputs": [],
   "source": [
    "from sklearn.pipeline import Pipeline\n",
    "from sklearn.impute import SimpleImputer\n",
    "from sklearn.preprocessing import StandardScaler, OneHotEncoder\n",
    "\n",
    "\n",
    "numeric_transformer = Pipeline(steps=[\n",
    "    ('imputer', SimpleImputer(strategy='median')),\n",
    "    ('scaler', StandardScaler()),\n",
    "])\n",
    "\n",
    "categorical_transformer = Pipeline(steps=[\n",
    "    ('imputer', SimpleImputer(strategy='constant', fill_value='missing')),\n",
    "    ('onehot', OneHotEncoder())])"
   ]
  },
  {
   "cell_type": "code",
   "execution_count": 5,
   "metadata": {},
   "outputs": [],
   "source": [
    "num_features = df.select_dtypes(include=['int64', 'float64']).columns\n",
    "categorical_features = df.select_dtypes(include=['object']).drop(['Class'], axis=1).columns\n",
    "\n",
    "from sklearn.compose import ColumnTransformer\n",
    "preprocessor = ColumnTransformer(\n",
    "    transformers=[\n",
    "        ('num', numeric_transformer, num_features),\n",
    "        ('cat', categorical_transformer, categorical_features)])\n",
    "\n"
   ]
  },
  {
   "cell_type": "code",
   "execution_count": 6,
   "metadata": {},
   "outputs": [],
   "source": [
    "from sklearn.preprocessing import StandardScaler\n",
    "from sklearn.pipeline import Pipeline\n",
    "\n",
    "from sklearn.linear_model import LogisticRegression\n",
    "from sklearn.neighbors import KNeighborsClassifier\n",
    "\n",
    "\n",
    "pipe_lr = Pipeline(steps = [('preprocessor', preprocessor),\n",
    "                            ('classifier', LogisticRegression(multi_class = 'auto', \n",
    "                                                              solver = 'liblinear'))])\n",
    "\n",
    "\n",
    "pipe_n = Pipeline(steps = [('preprocessor', preprocessor),\n",
    "                           ('classifier', KNeighborsClassifier(n_neighbors=5))])"
   ]
  },
  {
   "cell_type": "code",
   "execution_count": 7,
   "metadata": {},
   "outputs": [],
   "source": [
    "from sklearn.model_selection import train_test_split\n",
    "\n",
    "x = df.drop(columns=['Class'])\n",
    "y = df['Class']\n",
    "\n",
    "x_train, x_test, y_train, y_test = train_test_split(x, y, test_size=0.3, random_state=42, stratify = y)"
   ]
  },
  {
   "cell_type": "code",
   "execution_count": null,
   "metadata": {},
   "outputs": [],
   "source": []
  },
  {
   "cell_type": "code",
   "execution_count": 8,
   "metadata": {},
   "outputs": [
    {
     "name": "stdout",
     "output_type": "stream",
     "text": [
      "                         precision    recall  f1-score   support\n",
      "\n",
      "compensated_hypothyroid       0.33      0.07      0.11        58\n",
      "               negative       0.95      1.00      0.97      1044\n",
      "    primary_hypothyroid       0.85      0.59      0.69        29\n",
      "\n",
      "               accuracy                           0.94      1131\n",
      "              macro avg       0.71      0.55      0.59      1131\n",
      "           weighted avg       0.91      0.94      0.92      1131\n",
      "\n",
      "[0.92641509 0.94686907 0.94686907 0.943074   0.94117647]\n",
      "\n",
      "\n",
      "\n",
      "                         precision    recall  f1-score   support\n",
      "\n",
      "compensated_hypothyroid       0.78      0.12      0.21        58\n",
      "               negative       0.95      1.00      0.97      1044\n",
      "    primary_hypothyroid       0.85      0.76      0.80        29\n",
      "\n",
      "               accuracy                           0.95      1131\n",
      "              macro avg       0.86      0.63      0.66      1131\n",
      "           weighted avg       0.94      0.95      0.93      1131\n",
      "\n",
      "[0.9490566  0.94497154 0.95256167 0.9487666  0.95066414]\n"
     ]
    }
   ],
   "source": [
    "from sklearn.metrics import classification_report\n",
    "from sklearn.model_selection import cross_val_score\n",
    "\n",
    "\n",
    "pipe_lr.fit(x_train, y_train)\n",
    "pipe_n.fit(x_train, y_train)\n",
    "\n",
    "scores_pipe_lr = cross_val_score(pipe_lr, x_train, y_train, cv = 5)\n",
    "scores_pipe_n = cross_val_score(pipe_n, x_train, y_train, cv = 5)\n",
    "\n",
    "print(classification_report(y_test, pipe_n.predict(x_test)))\n",
    "print(scores_pipe_n)\n",
    "print('\\n\\n')\n",
    "print(classification_report(y_test, pipe_lr.predict(x_test)))\n",
    "print(scores_pipe_lr)"
   ]
  },
  {
   "cell_type": "markdown",
   "metadata": {},
   "source": [
    "### over\\under sampling"
   ]
  },
  {
   "cell_type": "code",
   "execution_count": null,
   "metadata": {},
   "outputs": [],
   "source": []
  },
  {
   "cell_type": "code",
   "execution_count": null,
   "metadata": {},
   "outputs": [],
   "source": [
    "\n"
   ]
  },
  {
   "cell_type": "code",
   "execution_count": null,
   "metadata": {},
   "outputs": [],
   "source": []
  },
  {
   "cell_type": "code",
   "execution_count": null,
   "metadata": {},
   "outputs": [],
   "source": []
  },
  {
   "cell_type": "code",
   "execution_count": null,
   "metadata": {},
   "outputs": [],
   "source": []
  }
 ],
 "metadata": {
  "kernelspec": {
   "display_name": "Python 3",
   "language": "python",
   "name": "python3"
  },
  "language_info": {
   "codemirror_mode": {
    "name": "ipython",
    "version": 3
   },
   "file_extension": ".py",
   "mimetype": "text/x-python",
   "name": "python",
   "nbconvert_exporter": "python",
   "pygments_lexer": "ipython3",
   "version": "3.7.5"
  }
 },
 "nbformat": 4,
 "nbformat_minor": 2
}
