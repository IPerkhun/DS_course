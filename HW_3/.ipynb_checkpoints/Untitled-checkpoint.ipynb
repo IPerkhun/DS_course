{
 "cells": [
  {
   "cell_type": "code",
   "execution_count": 1,
   "metadata": {},
   "outputs": [],
   "source": [
    "import numpy as np\n",
    "import pandas as pd\n"
   ]
  },
  {
   "cell_type": "code",
   "execution_count": 79,
   "metadata": {},
   "outputs": [],
   "source": [
    "path = '../res/dataset_57_hypothyroid.csv'\n",
    "df = pd.read_csv(path, na_values='?')\n",
    "df = df.drop(columns=['TBG', 'TBG_measured'])"
   ]
  },
  {
   "cell_type": "code",
   "execution_count": 80,
   "metadata": {},
   "outputs": [
    {
     "name": "stdout",
     "output_type": "stream",
     "text": [
      "t    3403\n",
      "f     369\n",
      "Name: TSH_measured, dtype: int64\n",
      "t    3003\n",
      "f     769\n",
      "Name: T3_measured, dtype: int64\n",
      "t    3541\n",
      "f     231\n",
      "Name: TT4_measured, dtype: int64\n",
      "t    3385\n",
      "f     387\n",
      "Name: T4U_measured, dtype: int64\n",
      "t    3387\n",
      "f     385\n",
      "Name: FTI_measured, dtype: int64\n"
     ]
    }
   ],
   "source": [
    "sub_df = df[['TSH_measured', 'TSH',\n",
    "    'T3_measured', 'T3',\n",
    "    'TT4_measured', 'TT4', \n",
    "    'T4U_measured', 'T4U',\n",
    "    'FTI_measured', 'FTI']]\n",
    "\n",
    "\n",
    "for x in ['TSH_measured','T3_measured','TT4_measured','T4U_measured','FTI_measured']:\n",
    "    print(sub_df[x].value_counts())\n",
    "\n",
    "\n",
    "df = df.drop(columns=['TSH_measured','T3_measured','TT4_measured','T4U_measured','FTI_measured'])"
   ]
  },
  {
   "cell_type": "code",
   "execution_count": 81,
   "metadata": {},
   "outputs": [],
   "source": [
    "df = df.drop(df[df.Class == 'secondary_hypothyroid'].index)\n",
    "df = df.replace({'f': 0, 't': 1, 'F': 0, 'M': 1})\n",
    "df = df.replace({v: float(k) for k, v in enumerate(df.Class.value_counts().keys())})\n"
   ]
  },
  {
   "cell_type": "code",
   "execution_count": null,
   "metadata": {},
   "outputs": [],
   "source": [
    "df['referral_source'] =  pd.Categorical(df.referral_source)\n",
    "df_rs = pd.get_dummies(df['referral_source'], prefix = 'category')\n",
    "df = pd.concat([df, df_rs], axis=1)\n",
    "df = df.drop(columns=['referral_source'])"
   ]
  },
  {
   "cell_type": "code",
   "execution_count": 94,
   "metadata": {},
   "outputs": [
    {
     "name": "stderr",
     "output_type": "stream",
     "text": [
      "/usr/local/lib/python3.7/site-packages/sklearn/utils/deprecation.py:66: DeprecationWarning: Class Imputer is deprecated; Imputer was deprecated in version 0.20 and will be removed in 0.22. Import impute.SimpleImputer from sklearn instead.\n",
      "  warnings.warn(msg, category=DeprecationWarning)\n"
     ]
    }
   ],
   "source": [
    "from sklearn.preprocessing import Imputer\n",
    "from sklearn.model_selection import train_test_split\n",
    "\n",
    "imputer = Imputer()\n",
    "\n",
    "x = df.drop(columns=['Class']).values\n",
    "x = imputer.fit_transform(x)\n",
    "y = df['Class'].values\n",
    "\n",
    "x_train, x_test, y_train, y_test = train_test_split(x, y, test_size=0.3, random_state=42)"
   ]
  },
  {
   "cell_type": "code",
   "execution_count": null,
   "metadata": {},
   "outputs": [],
   "source": []
  },
  {
   "cell_type": "code",
   "execution_count": null,
   "metadata": {},
   "outputs": [],
   "source": [
    "\n"
   ]
  },
  {
   "cell_type": "code",
   "execution_count": 96,
   "metadata": {},
   "outputs": [
    {
     "name": "stderr",
     "output_type": "stream",
     "text": [
      "/usr/local/lib/python3.7/site-packages/sklearn/linear_model/logistic.py:432: FutureWarning: Default solver will be changed to 'lbfgs' in 0.22. Specify a solver to silence this warning.\n",
      "  FutureWarning)\n",
      "/usr/local/lib/python3.7/site-packages/sklearn/linear_model/logistic.py:469: FutureWarning: Default multi_class will be changed to 'auto' in 0.22. Specify the multi_class option to silence this warning.\n",
      "  \"this warning.\", FutureWarning)\n"
     ]
    },
    {
     "name": "stdout",
     "output_type": "stream",
     "text": [
      "Logistic Regression pipeline test accuracy: 0.951\n",
      "Nearest Neighbors Classification pipeline test accuracy: 0.944\n",
      "Classifier with best accuracy: Logistic Regression\n"
     ]
    }
   ],
   "source": [
    "from sklearn.preprocessing import StandardScaler\n",
    "from sklearn.pipeline import Pipeline\n",
    "\n",
    "from sklearn.linear_model import LogisticRegression\n",
    "from sklearn import neighbors\n",
    "\n",
    "\n",
    "pipe_lr = Pipeline([('scl', StandardScaler()),\n",
    "            ('clf', LogisticRegression())])\n",
    "\n",
    "\n",
    "pipe_n = Pipeline([('scl', StandardScaler()),\n",
    "            ('clf', neighbors.KNeighborsClassifier(n_neighbors=5))])\n",
    "\n",
    "\n",
    "pipelines = [pipe_lr, pipe_n]\n",
    "\n",
    "\n",
    "pipe_dict = {\n",
    "    0: 'Logistic Regression', \n",
    "    1: 'Nearest Neighbors Classification'\n",
    "}\n",
    "\n",
    "\n",
    "for pipe in pipelines:\n",
    "    pipe.fit(X_train, y_train)\n",
    "\n",
    "\n",
    "for idx, val in enumerate(pipelines):\n",
    "    print('%s pipeline test accuracy: %.3f' % (pipe_dict[idx], val.score(X_test, y_test)))\n",
    "\n",
    "\n",
    "best_acc = 0.0\n",
    "best_clf = 0\n",
    "best_pipe = ''\n",
    "for idx, val in enumerate(pipelines):\n",
    "    if val.score(X_test, y_test) > best_acc:\n",
    "        best_acc = val.score(X_test, y_test)\n",
    "        best_pipe = val\n",
    "        best_clf = idx\n",
    "print('Classifier with best accuracy: %s' % pipe_dict[best_clf])"
   ]
  },
  {
   "cell_type": "code",
   "execution_count": 99,
   "metadata": {},
   "outputs": [],
   "source": [
    "y_pred = best_pipe.predict(x_test)\n"
   ]
  },
  {
   "cell_type": "code",
   "execution_count": null,
   "metadata": {},
   "outputs": [],
   "source": []
  }
 ],
 "metadata": {
  "kernelspec": {
   "display_name": "Python 3",
   "language": "python",
   "name": "python3"
  },
  "language_info": {
   "codemirror_mode": {
    "name": "ipython",
    "version": 3
   },
   "file_extension": ".py",
   "mimetype": "text/x-python",
   "name": "python",
   "nbconvert_exporter": "python",
   "pygments_lexer": "ipython3",
   "version": "3.7.5"
  }
 },
 "nbformat": 4,
 "nbformat_minor": 2
}
