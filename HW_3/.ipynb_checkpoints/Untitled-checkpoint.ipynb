{
 "cells": [
  {
   "cell_type": "code",
   "execution_count": 219,
   "metadata": {},
   "outputs": [],
   "source": [
    "import numpy as np\n",
    "import pandas as pd\n"
   ]
  },
  {
   "cell_type": "code",
   "execution_count": 223,
   "metadata": {},
   "outputs": [],
   "source": [
    "path = '../res/dataset_57_hypothyroid.csv'\n",
    "df = pd.read_csv(path, na_values='?')\n",
    "df = df.drop(columns=['TBG', 'TBG_measured']).dropna()\n"
   ]
  },
  {
   "cell_type": "code",
   "execution_count": 224,
   "metadata": {},
   "outputs": [
    {
     "name": "stdout",
     "output_type": "stream",
     "text": [
      "t    2643\n",
      "Name: TSH_measured, dtype: int64\n",
      "t    2643\n",
      "Name: T3_measured, dtype: int64\n",
      "t    2643\n",
      "Name: TT4_measured, dtype: int64\n",
      "t    2643\n",
      "Name: T4U_measured, dtype: int64\n",
      "t    2643\n",
      "Name: FTI_measured, dtype: int64\n"
     ]
    }
   ],
   "source": [
    "sub_df = df[['TSH_measured', 'TSH',\n",
    "    'T3_measured', 'T3',\n",
    "    'TT4_measured', 'TT4', \n",
    "    'T4U_measured', 'T4U',\n",
    "    'FTI_measured', 'FTI']]\n",
    "\n",
    "\n",
    "for x in ['TSH_measured','T3_measured','TT4_measured','T4U_measured','FTI_measured']:\n",
    "    print(sub_df[x].value_counts())\n",
    "\n",
    "\n",
    "df = df.drop(columns=['TSH_measured','T3_measured','TT4_measured','T4U_measured','FTI_measured'])"
   ]
  },
  {
   "cell_type": "code",
   "execution_count": 225,
   "metadata": {},
   "outputs": [],
   "source": [
    "df = df.drop(df[df.Class == 'secondary_hypothyroid'].index)\n",
    "df = df.replace({'f': 0, 't': 1, 'F': 0, 'M': 1})\n",
    "df = df.replace({v: float(k) for k, v in enumerate(df.Class.value_counts().keys())})\n",
    "df['referral_source'] =  pd.Categorical(df.referral_source)\n",
    "df_rs = pd.get_dummies(df['referral_source'], prefix = 'category')\n",
    "df = pd.concat([df, df_rs], axis=1)\n",
    "df = df.drop(columns=['referral_source'])"
   ]
  },
  {
   "cell_type": "code",
   "execution_count": 231,
   "metadata": {},
   "outputs": [],
   "source": [
    "x = df.drop(columns=['Class']).values\n",
    "y = df['Class'].values\n"
   ]
  },
  {
   "cell_type": "code",
   "execution_count": 249,
   "metadata": {},
   "outputs": [
    {
     "name": "stdout",
     "output_type": "stream",
     "text": [
      "Logistic Regression pipeline test accuracy: 0.945\n",
      "Support Vector Machine pipeline test accuracy: 0.939\n",
      "Decision Tree pipeline test accuracy: 0.992\n",
      "Nearest Neighbors Classification pipeline test accuracy: 0.920\n",
      "Classifier with best accuracy: Decision Tree\n"
     ]
    }
   ],
   "source": [
    "from sklearn.model_selection import train_test_split\n",
    "from sklearn.preprocessing import StandardScaler\n",
    "from sklearn.pipeline import Pipeline\n",
    "\n",
    "from sklearn.linear_model import LogisticRegression\n",
    "from sklearn import svm\n",
    "from sklearn import tree\n",
    "from sklearn import neighbors\n",
    "\n",
    "\n",
    "\n",
    "X_train, X_test, y_train, y_test = train_test_split(x, y, test_size=0.5, random_state=42)\n",
    "\n",
    "\n",
    "pipe_lr = Pipeline([('scl', StandardScaler()),\n",
    "            ('clf', LogisticRegression(random_state=42))])\n",
    "\n",
    "pipe_svm = Pipeline([('scl', StandardScaler()),\n",
    "            ('clf', svm.SVC(random_state=42))])\n",
    "\n",
    "pipe_dt = Pipeline([('scl', StandardScaler()),\n",
    "            ('clf', tree.DecisionTreeClassifier(random_state=42))])\n",
    "\n",
    "pipe_n = Pipeline([('scl', StandardScaler()),\n",
    "            ('clf', neighbors.KNeighborsClassifier(n_neighbors=5))])\n",
    "\n",
    "\n",
    "pipelines = [pipe_lr, pipe_svm, pipe_dt, pipe_n]\n",
    "\n",
    "\n",
    "pipe_dict = {\n",
    "    0: 'Logistic Regression', \n",
    "    1: 'Support Vector Machine', \n",
    "    2: 'Decision Tree', \n",
    "    3: 'Nearest Neighbors Classification'\n",
    "}\n",
    "\n",
    "\n",
    "for pipe in pipelines:\n",
    "    pipe.fit(X_train, y_train)\n",
    "\n",
    "\n",
    "for idx, val in enumerate(pipelines):\n",
    "    print('%s pipeline test accuracy: %.3f' % (pipe_dict[idx], val.score(X_test, y_test)))\n",
    "\n",
    "\n",
    "best_acc = 0.0\n",
    "best_clf = 0\n",
    "best_pipe = ''\n",
    "for idx, val in enumerate(pipelines):\n",
    "    if val.score(X_test, y_test) > best_acc:\n",
    "        best_acc = val.score(X_test, y_test)\n",
    "        best_pipe = val\n",
    "        best_clf = idx\n",
    "print('Classifier with best accuracy: %s' % pipe_dict[best_clf])"
   ]
  },
  {
   "cell_type": "code",
   "execution_count": null,
   "metadata": {},
   "outputs": [],
   "source": []
  },
  {
   "cell_type": "code",
   "execution_count": null,
   "metadata": {},
   "outputs": [],
   "source": []
  }
 ],
 "metadata": {
  "kernelspec": {
   "display_name": "Python 3",
   "language": "python",
   "name": "python3"
  },
  "language_info": {
   "codemirror_mode": {
    "name": "ipython",
    "version": 3
   },
   "file_extension": ".py",
   "mimetype": "text/x-python",
   "name": "python",
   "nbconvert_exporter": "python",
   "pygments_lexer": "ipython3",
   "version": "3.6.5"
  }
 },
 "nbformat": 4,
 "nbformat_minor": 2
}
