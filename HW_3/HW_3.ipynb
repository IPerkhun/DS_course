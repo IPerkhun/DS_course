{
 "cells": [
  {
   "cell_type": "code",
   "execution_count": 1,
   "metadata": {},
   "outputs": [],
   "source": [
    "import numpy as np\n",
    "import pandas as pd\n"
   ]
  },
  {
   "cell_type": "code",
   "execution_count": 2,
   "metadata": {},
   "outputs": [
    {
     "name": "stdout",
     "output_type": "stream",
     "text": [
      "<class 'pandas.core.frame.DataFrame'>\n",
      "RangeIndex: 3772 entries, 0 to 3771\n",
      "Data columns (total 28 columns):\n",
      "age                          3771 non-null float64\n",
      "sex                          3622 non-null object\n",
      "on_thyroxine                 3772 non-null object\n",
      "query_on_thyroxine           3772 non-null object\n",
      "on_antithyroid_medication    3772 non-null object\n",
      "sick                         3772 non-null object\n",
      "pregnant                     3772 non-null object\n",
      "thyroid_surgery              3772 non-null object\n",
      "I131_treatment               3772 non-null object\n",
      "query_hypothyroid            3772 non-null object\n",
      "query_hyperthyroid           3772 non-null object\n",
      "lithium                      3772 non-null object\n",
      "goitre                       3772 non-null object\n",
      "tumor                        3772 non-null object\n",
      "hypopituitary                3772 non-null object\n",
      "psych                        3772 non-null object\n",
      "TSH_measured                 3772 non-null object\n",
      "TSH                          3403 non-null float64\n",
      "T3_measured                  3772 non-null object\n",
      "T3                           3003 non-null float64\n",
      "TT4_measured                 3772 non-null object\n",
      "TT4                          3541 non-null float64\n",
      "T4U_measured                 3772 non-null object\n",
      "T4U                          3385 non-null float64\n",
      "FTI_measured                 3772 non-null object\n",
      "FTI                          3387 non-null float64\n",
      "referral_source              3772 non-null object\n",
      "Class                        3772 non-null object\n",
      "dtypes: float64(6), object(22)\n",
      "memory usage: 825.2+ KB\n"
     ]
    }
   ],
   "source": [
    "path = '../res/dataset_57_hypothyroid.csv'\n",
    "df = pd.read_csv(path, na_values='?')\n",
    "df = df.drop(columns=['TBG', 'TBG_measured'])\n",
    "df.info()"
   ]
  },
  {
   "cell_type": "code",
   "execution_count": 3,
   "metadata": {},
   "outputs": [
    {
     "data": {
      "text/plain": [
       "negative                   3480\n",
       "compensated_hypothyroid     194\n",
       "primary_hypothyroid          95\n",
       "Name: Class, dtype: int64"
      ]
     },
     "execution_count": 3,
     "metadata": {},
     "output_type": "execute_result"
    }
   ],
   "source": [
    "df = df.drop(df[df.Class == 'secondary_hypothyroid'].index)\n",
    "df = df[(df['hypopituitary'] != 't')]\n",
    "df.Class.value_counts()"
   ]
  },
  {
   "cell_type": "code",
   "execution_count": null,
   "metadata": {},
   "outputs": [],
   "source": []
  },
  {
   "cell_type": "code",
   "execution_count": 4,
   "metadata": {},
   "outputs": [],
   "source": [
    "from sklearn.pipeline import Pipeline\n",
    "from sklearn.impute import SimpleImputer\n",
    "from sklearn.preprocessing import StandardScaler, OneHotEncoder\n",
    "\n",
    "\n",
    "numeric_transformer = Pipeline(steps=[\n",
    "    ('imputer', SimpleImputer(strategy='median')),\n",
    "    ('scaler', StandardScaler()),\n",
    "])\n",
    "\n",
    "categorical_transformer = Pipeline(steps=[\n",
    "    ('imputer', SimpleImputer(strategy='constant', fill_value='missing')),\n",
    "    ('onehot', OneHotEncoder())])"
   ]
  },
  {
   "cell_type": "code",
   "execution_count": 5,
   "metadata": {},
   "outputs": [],
   "source": [
    "num_features = df.select_dtypes(include=['int64', 'float64']).columns\n",
    "categorical_features = df.select_dtypes(include=['object']).drop(['Class'], axis=1).columns\n",
    "\n",
    "from sklearn.compose import ColumnTransformer\n",
    "preprocessor = ColumnTransformer(\n",
    "    transformers=[\n",
    "        ('num', numeric_transformer, num_features),\n",
    "        ('cat', categorical_transformer, categorical_features)])\n",
    "\n"
   ]
  },
  {
   "cell_type": "code",
   "execution_count": 6,
   "metadata": {},
   "outputs": [],
   "source": [
    "from sklearn.preprocessing import StandardScaler\n",
    "from sklearn.pipeline import Pipeline \n",
    "\n",
    "from sklearn.linear_model import LogisticRegression\n",
    "from sklearn.neighbors import KNeighborsClassifier\n",
    "\n",
    "\n",
    "pipe_lr = Pipeline(steps = [('preprocessor', preprocessor),\n",
    "                            ('classifier', LogisticRegression(multi_class = 'auto', \n",
    "                                                              solver = 'liblinear'))])\n",
    "\n",
    "\n",
    "pipe_n = Pipeline(steps = [('preprocessor', preprocessor),\n",
    "                           ('classifier', KNeighborsClassifier(n_neighbors=5))])"
   ]
  },
  {
   "cell_type": "code",
   "execution_count": 7,
   "metadata": {},
   "outputs": [],
   "source": [
    "from sklearn.model_selection import train_test_split\n",
    "\n",
    "x = df.drop(columns=['Class'])\n",
    "y = df['Class']\n",
    "\n",
    "x_train, x_test, y_train, y_test = train_test_split(x, y, test_size=0.3, random_state=42, stratify = y)"
   ]
  },
  {
   "cell_type": "code",
   "execution_count": null,
   "metadata": {},
   "outputs": [],
   "source": []
  },
  {
   "cell_type": "code",
   "execution_count": 8,
   "metadata": {},
   "outputs": [
    {
     "name": "stdout",
     "output_type": "stream",
     "text": [
      "                         precision    recall  f1-score   support\n",
      "\n",
      "compensated_hypothyroid       0.33      0.07      0.11        58\n",
      "               negative       0.95      1.00      0.97      1044\n",
      "    primary_hypothyroid       0.85      0.59      0.69        29\n",
      "\n",
      "               accuracy                           0.94      1131\n",
      "              macro avg       0.71      0.55      0.59      1131\n",
      "           weighted avg       0.91      0.94      0.92      1131\n",
      "\n",
      "[0.92641509 0.94686907 0.94686907 0.943074   0.94117647]\n",
      "\n",
      "\n",
      "\n",
      "                         precision    recall  f1-score   support\n",
      "\n",
      "compensated_hypothyroid       0.78      0.12      0.21        58\n",
      "               negative       0.95      1.00      0.97      1044\n",
      "    primary_hypothyroid       0.85      0.76      0.80        29\n",
      "\n",
      "               accuracy                           0.95      1131\n",
      "              macro avg       0.86      0.63      0.66      1131\n",
      "           weighted avg       0.94      0.95      0.93      1131\n",
      "\n",
      "[0.9490566  0.94497154 0.95256167 0.9487666  0.95066414]\n"
     ]
    }
   ],
   "source": [
    "from sklearn.metrics import classification_report\n",
    "from sklearn.model_selection import cross_val_score\n",
    "\n",
    "\n",
    "pipe_lr.fit(x_train, y_train)\n",
    "pipe_n.fit(x_train, y_train)\n",
    "\n",
    "scores_pipe_lr = cross_val_score(pipe_lr, x_train, y_train, cv = 5)\n",
    "scores_pipe_n = cross_val_score(pipe_n, x_train, y_train, cv = 5)\n",
    "\n",
    "print(classification_report(y_test, pipe_n.predict(x_test)))\n",
    "print(scores_pipe_n)\n",
    "print('\\n\\n')\n",
    "print(classification_report(y_test, pipe_lr.predict(x_test)))\n",
    "print(scores_pipe_lr)"
   ]
  },
  {
   "cell_type": "markdown",
   "metadata": {},
   "source": [
    "### under sampling"
   ]
  },
  {
   "cell_type": "code",
   "execution_count": 9,
   "metadata": {},
   "outputs": [
    {
     "name": "stderr",
     "output_type": "stream",
     "text": [
      "Using TensorFlow backend.\n",
      "/usr/local/lib/python3.7/site-packages/tensorflow/python/framework/dtypes.py:516: FutureWarning: Passing (type, 1) or '1type' as a synonym of type is deprecated; in a future version of numpy, it will be understood as (type, (1,)) / '(1,)type'.\n",
      "  _np_qint8 = np.dtype([(\"qint8\", np.int8, 1)])\n",
      "/usr/local/lib/python3.7/site-packages/tensorflow/python/framework/dtypes.py:517: FutureWarning: Passing (type, 1) or '1type' as a synonym of type is deprecated; in a future version of numpy, it will be understood as (type, (1,)) / '(1,)type'.\n",
      "  _np_quint8 = np.dtype([(\"quint8\", np.uint8, 1)])\n",
      "/usr/local/lib/python3.7/site-packages/tensorflow/python/framework/dtypes.py:518: FutureWarning: Passing (type, 1) or '1type' as a synonym of type is deprecated; in a future version of numpy, it will be understood as (type, (1,)) / '(1,)type'.\n",
      "  _np_qint16 = np.dtype([(\"qint16\", np.int16, 1)])\n",
      "/usr/local/lib/python3.7/site-packages/tensorflow/python/framework/dtypes.py:519: FutureWarning: Passing (type, 1) or '1type' as a synonym of type is deprecated; in a future version of numpy, it will be understood as (type, (1,)) / '(1,)type'.\n",
      "  _np_quint16 = np.dtype([(\"quint16\", np.uint16, 1)])\n",
      "/usr/local/lib/python3.7/site-packages/tensorflow/python/framework/dtypes.py:520: FutureWarning: Passing (type, 1) or '1type' as a synonym of type is deprecated; in a future version of numpy, it will be understood as (type, (1,)) / '(1,)type'.\n",
      "  _np_qint32 = np.dtype([(\"qint32\", np.int32, 1)])\n",
      "/usr/local/lib/python3.7/site-packages/tensorflow/python/framework/dtypes.py:525: FutureWarning: Passing (type, 1) or '1type' as a synonym of type is deprecated; in a future version of numpy, it will be understood as (type, (1,)) / '(1,)type'.\n",
      "  np_resource = np.dtype([(\"resource\", np.ubyte, 1)])\n",
      "/usr/local/lib/python3.7/site-packages/tensorboard/compat/tensorflow_stub/dtypes.py:541: FutureWarning: Passing (type, 1) or '1type' as a synonym of type is deprecated; in a future version of numpy, it will be understood as (type, (1,)) / '(1,)type'.\n",
      "  _np_qint8 = np.dtype([(\"qint8\", np.int8, 1)])\n",
      "/usr/local/lib/python3.7/site-packages/tensorboard/compat/tensorflow_stub/dtypes.py:542: FutureWarning: Passing (type, 1) or '1type' as a synonym of type is deprecated; in a future version of numpy, it will be understood as (type, (1,)) / '(1,)type'.\n",
      "  _np_quint8 = np.dtype([(\"quint8\", np.uint8, 1)])\n",
      "/usr/local/lib/python3.7/site-packages/tensorboard/compat/tensorflow_stub/dtypes.py:543: FutureWarning: Passing (type, 1) or '1type' as a synonym of type is deprecated; in a future version of numpy, it will be understood as (type, (1,)) / '(1,)type'.\n",
      "  _np_qint16 = np.dtype([(\"qint16\", np.int16, 1)])\n",
      "/usr/local/lib/python3.7/site-packages/tensorboard/compat/tensorflow_stub/dtypes.py:544: FutureWarning: Passing (type, 1) or '1type' as a synonym of type is deprecated; in a future version of numpy, it will be understood as (type, (1,)) / '(1,)type'.\n",
      "  _np_quint16 = np.dtype([(\"quint16\", np.uint16, 1)])\n",
      "/usr/local/lib/python3.7/site-packages/tensorboard/compat/tensorflow_stub/dtypes.py:545: FutureWarning: Passing (type, 1) or '1type' as a synonym of type is deprecated; in a future version of numpy, it will be understood as (type, (1,)) / '(1,)type'.\n",
      "  _np_qint32 = np.dtype([(\"qint32\", np.int32, 1)])\n",
      "/usr/local/lib/python3.7/site-packages/tensorboard/compat/tensorflow_stub/dtypes.py:550: FutureWarning: Passing (type, 1) or '1type' as a synonym of type is deprecated; in a future version of numpy, it will be understood as (type, (1,)) / '(1,)type'.\n",
      "  np_resource = np.dtype([(\"resource\", np.ubyte, 1)])\n"
     ]
    },
    {
     "name": "stdout",
     "output_type": "stream",
     "text": [
      "                         precision    recall  f1-score   support\n",
      "\n",
      "compensated_hypothyroid       0.15      0.50      0.23        58\n",
      "               negative       0.97      0.84      0.90      1044\n",
      "    primary_hypothyroid       0.67      0.76      0.71        29\n",
      "\n",
      "               accuracy                           0.82      1131\n",
      "              macro avg       0.59      0.70      0.61      1131\n",
      "           weighted avg       0.92      0.82      0.86      1131\n",
      "\n",
      "[0.83207547 0.81783681 0.81214421 0.82542694 0.80075901]\n",
      "\n",
      "\n",
      "\n",
      "                         precision    recall  f1-score   support\n",
      "\n",
      "compensated_hypothyroid       0.23      0.64      0.34        58\n",
      "               negative       0.98      0.87      0.92      1044\n",
      "    primary_hypothyroid       0.48      0.83      0.61        29\n",
      "\n",
      "               accuracy                           0.86      1131\n",
      "              macro avg       0.57      0.78      0.62      1131\n",
      "           weighted avg       0.93      0.86      0.88      1131\n",
      "\n",
      "[0.84528302 0.84250474 0.77039848 0.77039848 0.86148008]\n"
     ]
    }
   ],
   "source": [
    "from imblearn.under_sampling import ClusterCentroids\n",
    "from imblearn.pipeline import Pipeline\n",
    "\n",
    "under_sampling = ClusterCentroids(sampling_strategy='not minority')\n",
    "pipe_lr = Pipeline(steps = [('preprocessor', preprocessor),\n",
    "                            ('under_sampling', under_sampling),\n",
    "                            ('classifier', LogisticRegression(multi_class = 'auto', \n",
    "                                                              solver = 'liblinear'))])\n",
    "\n",
    "\n",
    "pipe_n = Pipeline(steps = [('preprocessor', preprocessor),\n",
    "                           ('under_sampling', under_sampling),\n",
    "                           ('classifier', KNeighborsClassifier(n_neighbors=5))])\n",
    "\n",
    "from sklearn.metrics import classification_report\n",
    "from sklearn.model_selection import cross_val_score\n",
    "\n",
    "\n",
    "pipe_lr.fit(x_train, y_train)\n",
    "pipe_n.fit(x_train, y_train)\n",
    "\n",
    "scores_pipe_lr = cross_val_score(pipe_lr, x_train, y_train, cv = 5)\n",
    "scores_pipe_n = cross_val_score(pipe_n, x_train, y_train, cv = 5)\n",
    "\n",
    "print(classification_report(y_test, pipe_n.predict(x_test)))\n",
    "print(scores_pipe_n)\n",
    "print('\\n\\n')\n",
    "print(classification_report(y_test, pipe_lr.predict(x_test)))\n",
    "print(scores_pipe_lr)"
   ]
  },
  {
   "cell_type": "markdown",
   "metadata": {},
   "source": [
    "### over sampling"
   ]
  },
  {
   "cell_type": "code",
   "execution_count": 10,
   "metadata": {},
   "outputs": [
    {
     "name": "stdout",
     "output_type": "stream",
     "text": [
      "                         precision    recall  f1-score   support\n",
      "\n",
      "compensated_hypothyroid       0.19      0.48      0.27        58\n",
      "               negative       0.97      0.89      0.92      1044\n",
      "    primary_hypothyroid       0.72      0.72      0.72        29\n",
      "\n",
      "               accuracy                           0.86      1131\n",
      "              macro avg       0.63      0.70      0.64      1131\n",
      "           weighted avg       0.92      0.86      0.89      1131\n",
      "\n",
      "[0.83584906 0.84440228 0.85578748 0.86527514 0.83491461]\n",
      "\n",
      "\n",
      "\n",
      "                         precision    recall  f1-score   support\n",
      "\n",
      "compensated_hypothyroid       0.67      0.91      0.77        58\n",
      "               negative       1.00      0.97      0.98      1044\n",
      "    primary_hypothyroid       0.69      0.86      0.77        29\n",
      "\n",
      "               accuracy                           0.96      1131\n",
      "              macro avg       0.79      0.92      0.84      1131\n",
      "           weighted avg       0.97      0.96      0.97      1131\n",
      "\n",
      "[0.9509434  0.93927894 0.96204934 0.9544592  0.9487666 ]\n"
     ]
    }
   ],
   "source": [
    "from imblearn.over_sampling import SMOTE\n",
    "from imblearn.pipeline import Pipeline\n",
    "\n",
    "over_sampling = SMOTE(sampling_strategy='not majority')\n",
    "pipe_lr = Pipeline(steps = [('preprocessor', preprocessor),\n",
    "                            ('under_sampling', over_sampling),\n",
    "                            ('classifier', LogisticRegression(multi_class = 'auto', \n",
    "                                                              solver = 'liblinear'))])\n",
    "\n",
    "\n",
    "pipe_n = Pipeline(steps = [('preprocessor', preprocessor),\n",
    "                           ('under_sampling', over_sampling),\n",
    "                           ('classifier', KNeighborsClassifier(n_neighbors=5))])\n",
    "\n",
    "from sklearn.metrics import classification_report\n",
    "from sklearn.model_selection import cross_val_score\n",
    "\n",
    "\n",
    "pipe_lr.fit(x_train, y_train)\n",
    "pipe_n.fit(x_train, y_train)\n",
    "\n",
    "scores_pipe_lr = cross_val_score(pipe_lr, x_train, y_train, cv = 5)\n",
    "scores_pipe_n = cross_val_score(pipe_n, x_train, y_train, cv = 5)\n",
    "\n",
    "print(classification_report(y_test, pipe_n.predict(x_test)))\n",
    "print(scores_pipe_n)\n",
    "print('\\n\\n')\n",
    "print(classification_report(y_test, pipe_lr.predict(x_test)))\n",
    "print(scores_pipe_lr)"
   ]
  },
  {
   "cell_type": "markdown",
   "metadata": {},
   "source": [
    "### Feature engineering"
   ]
  },
  {
   "cell_type": "code",
   "execution_count": 13,
   "metadata": {},
   "outputs": [
    {
     "name": "stdout",
     "output_type": "stream",
     "text": [
      "                         precision    recall  f1-score   support\n",
      "\n",
      "compensated_hypothyroid       0.18      0.48      0.27        58\n",
      "               negative       0.97      0.88      0.92      1044\n",
      "    primary_hypothyroid       0.74      0.69      0.71        29\n",
      "\n",
      "               accuracy                           0.86      1131\n",
      "              macro avg       0.63      0.68      0.63      1131\n",
      "           weighted avg       0.92      0.86      0.88      1131\n",
      "\n",
      "[0.8245283  0.84060721 0.85958254 0.84819734 0.85009488]\n",
      "\n",
      "\n",
      "\n",
      "                         precision    recall  f1-score   support\n",
      "\n",
      "compensated_hypothyroid       0.71      0.83      0.76        58\n",
      "               negative       0.99      0.98      0.99      1044\n",
      "    primary_hypothyroid       0.80      0.69      0.74        29\n",
      "\n",
      "               accuracy                           0.97      1131\n",
      "              macro avg       0.83      0.83      0.83      1131\n",
      "           weighted avg       0.97      0.97      0.97      1131\n",
      "\n",
      "[0.97358491 0.98102467 0.9772296  0.98102467 0.971537  ]\n"
     ]
    }
   ],
   "source": [
    "from sklearn.preprocessing import PolynomialFeatures\n",
    "from imblearn.over_sampling import SMOTE\n",
    "from imblearn.pipeline import Pipeline\n",
    "\n",
    "over_sampling = SMOTE(sampling_strategy='not majority')\n",
    "feauters = PolynomialFeatures(degree=2)\n",
    "\n",
    "pipe_lr = Pipeline(steps = [('preprocessor', preprocessor),\n",
    "                            ('under_sampling', over_sampling),\n",
    "                            ('feauters', feauters),\n",
    "                            ('classifier', LogisticRegression(multi_class = 'auto', \n",
    "                                                              solver = 'liblinear'))])\n",
    "\n",
    "\n",
    "pipe_n = Pipeline(steps = [('preprocessor', preprocessor),\n",
    "                           ('under_sampling', over_sampling),\n",
    "                           ('feauters', feauters),\n",
    "                           ('classifier', KNeighborsClassifier(n_neighbors=5))])\n",
    "\n",
    "from sklearn.metrics import classification_report\n",
    "from sklearn.model_selection import cross_val_score\n",
    "\n",
    "\n",
    "pipe_lr.fit(x_train, y_train)\n",
    "pipe_n.fit(x_train, y_train)\n",
    "\n",
    "scores_pipe_lr = cross_val_score(pipe_lr, x_train, y_train, cv = 5)\n",
    "scores_pipe_n = cross_val_score(pipe_n, x_train, y_train, cv = 5)\n",
    "\n",
    "print(classification_report(y_test, pipe_n.predict(x_test)))\n",
    "print(scores_pipe_n)\n",
    "print('\\n\\n')\n",
    "print(classification_report(y_test, pipe_lr.predict(x_test)))\n",
    "print(scores_pipe_lr)"
   ]
  },
  {
   "cell_type": "markdown",
   "metadata": {},
   "source": [
    "### Feature importance and hyperparameters tuning"
   ]
  },
  {
   "cell_type": "code",
   "execution_count": 14,
   "metadata": {
    "scrolled": false
   },
   "outputs": [
    {
     "name": "stderr",
     "output_type": "stream",
     "text": [
      "/usr/local/lib/python3.7/site-packages/sklearn/model_selection/_split.py:1978: FutureWarning: The default value of cv will change from 3 to 5 in version 0.22. Specify it explicitly to silence this warning.\n",
      "  warnings.warn(CV_WARNING, FutureWarning)\n",
      "/usr/local/lib/python3.7/site-packages/sklearn/svm/base.py:929: ConvergenceWarning: Liblinear failed to converge, increase the number of iterations.\n",
      "  \"the number of iterations.\", ConvergenceWarning)\n",
      "/usr/local/lib/python3.7/site-packages/sklearn/svm/base.py:929: ConvergenceWarning: Liblinear failed to converge, increase the number of iterations.\n",
      "  \"the number of iterations.\", ConvergenceWarning)\n",
      "/usr/local/lib/python3.7/site-packages/sklearn/svm/base.py:929: ConvergenceWarning: Liblinear failed to converge, increase the number of iterations.\n",
      "  \"the number of iterations.\", ConvergenceWarning)\n"
     ]
    },
    {
     "name": "stdout",
     "output_type": "stream",
     "text": [
      "Best parameter (CV score=0.977):\n",
      "{'classifier__C': 21.54434690031882, 'classifier__penalty': 'l1', 'preprocessor__num__imputer__strategy': 'mean'}\n"
     ]
    },
    {
     "name": "stderr",
     "output_type": "stream",
     "text": [
      "/usr/local/lib/python3.7/site-packages/sklearn/svm/base.py:929: ConvergenceWarning: Liblinear failed to converge, increase the number of iterations.\n",
      "  \"the number of iterations.\", ConvergenceWarning)\n"
     ]
    }
   ],
   "source": [
    "from sklearn import datasets\n",
    "from sklearn.linear_model import LogisticRegression\n",
    "from sklearn.pipeline import Pipeline\n",
    "from sklearn.model_selection import GridSearchCV\n",
    "\n",
    "\n",
    "\n",
    "param_grid = {\n",
    "    'classifier__C': np.logspace(-4, 4, 4),\n",
    "    'preprocessor__num__imputer__strategy': ['mean', 'median'],\n",
    "    'classifier__penalty': [\"l1\",\"l2\"],\n",
    "\n",
    "    \n",
    "}\n",
    "search = GridSearchCV(pipe_lr, param_grid)\n",
    "search.fit(x_train, y_train)\n",
    "print(\"Best parameter (CV score=%0.3f):\" % search.best_score_)\n",
    "print(search.best_params_)\n",
    "\n",
    "\n",
    "\n",
    "\n"
   ]
  },
  {
   "cell_type": "markdown",
   "metadata": {},
   "source": []
  },
  {
   "cell_type": "code",
   "execution_count": 12,
   "metadata": {},
   "outputs": [
    {
     "name": "stdout",
     "output_type": "stream",
     "text": [
      "                         precision    recall  f1-score   support\n",
      "\n",
      "compensated_hypothyroid       0.59      0.93      0.72        58\n",
      "               negative       1.00      0.96      0.98      1044\n",
      "    primary_hypothyroid       0.69      0.83      0.75        29\n",
      "\n",
      "               accuracy                           0.95      1131\n",
      "              macro avg       0.76      0.91      0.82      1131\n",
      "           weighted avg       0.97      0.95      0.96      1131\n",
      "\n",
      "[0.96226415 0.92789374 0.9544592  0.9544592  0.95256167]\n"
     ]
    }
   ],
   "source": [
    "from sklearn.preprocessing import PolynomialFeatures\n",
    "from sklearn.metrics import classification_report\n",
    "from sklearn.model_selection import cross_val_score\n",
    "\n",
    "feauters = PolynomialFeatures(degree=2)\n",
    "\n",
    "pipe_lr = Pipeline(steps = [('preprocessor', preprocessor),\n",
    "                            ('under_sampling', under_sampling),\n",
    "                            ('feauters', feauters),\n",
    "                            ('classifier', LogisticRegression(multi_class = 'auto', \n",
    "                                                              solver = 'liblinear',\n",
    "                                                             C =  21.54434690031882, penalty =  'l1'))])\n",
    "\n",
    "pipe_lr.fit(x_train, y_train)\n",
    "pipe_n.fit(x_train, y_train)\n",
    "\n",
    "scores_pipe_lr = cross_val_score(pipe_lr, x_train, y_train, cv = 5)\n",
    "\n",
    "\n",
    "print(classification_report(y_test, pipe_lr.predict(x_test)))\n",
    "print(scores_pipe_lr)"
   ]
  },
  {
   "cell_type": "code",
   "execution_count": null,
   "metadata": {},
   "outputs": [],
   "source": []
  }
 ],
 "metadata": {
  "kernelspec": {
   "display_name": "Python 3",
   "language": "python",
   "name": "python3"
  },
  "language_info": {
   "codemirror_mode": {
    "name": "ipython",
    "version": 3
   },
   "file_extension": ".py",
   "mimetype": "text/x-python",
   "name": "python",
   "nbconvert_exporter": "python",
   "pygments_lexer": "ipython3",
   "version": "3.7.5"
  }
 },
 "nbformat": 4,
 "nbformat_minor": 2
}
