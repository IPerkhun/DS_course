{
 "cells": [
  {
   "cell_type": "code",
   "execution_count": 1,
   "metadata": {},
   "outputs": [],
   "source": [
    "import pandas as pd\n",
    "import numpy as np"
   ]
  },
  {
   "cell_type": "code",
   "execution_count": 2,
   "metadata": {},
   "outputs": [],
   "source": [
    "df = pd.read_csv('../res/AirQualityUCI/AirQualityUCI.csv', sep=';', na_values=-200, decimal = ',')\n",
    "\n",
    "names = ['date', 'time', 'co_gt', 'pt08_s1_co', \n",
    "         'nmhc_gt','c6h6_gt','pt08_s2_nmhc','nox_gt',\n",
    "         'pt08_s3_nox','no2_gt','pt08_s4_no2','pt08_s5_o3',\n",
    "         't','rh','ah','Unnamed_1','Unnamed_2']\n",
    "\n",
    "df = df.rename(columns= {last_key: new_key for last_key, new_key in zip(df.keys(), names)})\n",
    "df = df.drop(columns=['Unnamed_1', 'Unnamed_2', 'nmhc_gt'])\n",
    "df = df.dropna(thresh=len(df.keys()))\n"
   ]
  },
  {
   "cell_type": "code",
   "execution_count": 3,
   "metadata": {},
   "outputs": [
    {
     "name": "stdout",
     "output_type": "stream",
     "text": [
      "<class 'pandas.core.frame.DataFrame'>\n",
      "Int64Index: 6941 entries, 0 to 9356\n",
      "Data columns (total 14 columns):\n",
      "date            6941 non-null object\n",
      "time            6941 non-null object\n",
      "co_gt           6941 non-null float64\n",
      "pt08_s1_co      6941 non-null float64\n",
      "c6h6_gt         6941 non-null float64\n",
      "pt08_s2_nmhc    6941 non-null float64\n",
      "nox_gt          6941 non-null float64\n",
      "pt08_s3_nox     6941 non-null float64\n",
      "no2_gt          6941 non-null float64\n",
      "pt08_s4_no2     6941 non-null float64\n",
      "pt08_s5_o3      6941 non-null float64\n",
      "t               6941 non-null float64\n",
      "rh              6941 non-null float64\n",
      "ah              6941 non-null float64\n",
      "dtypes: float64(12), object(2)\n",
      "memory usage: 813.4+ KB\n"
     ]
    },
    {
     "data": {
      "text/plain": [
       "date            0\n",
       "time            0\n",
       "co_gt           0\n",
       "pt08_s1_co      0\n",
       "c6h6_gt         0\n",
       "pt08_s2_nmhc    0\n",
       "nox_gt          0\n",
       "pt08_s3_nox     0\n",
       "no2_gt          0\n",
       "pt08_s4_no2     0\n",
       "pt08_s5_o3      0\n",
       "t               0\n",
       "rh              0\n",
       "ah              0\n",
       "dtype: int64"
      ]
     },
     "execution_count": 3,
     "metadata": {},
     "output_type": "execute_result"
    }
   ],
   "source": [
    "df.info()\n",
    "df.shape[0] - df.dropna().count()\n"
   ]
  },
  {
   "cell_type": "markdown",
   "metadata": {},
   "source": [
    "стоит убрать столбец `nmhc_gt` так как он не несет информативности и имеет пропуски в 90% случаях "
   ]
  },
  {
   "cell_type": "code",
   "execution_count": 4,
   "metadata": {},
   "outputs": [
    {
     "data": {
      "text/html": [
       "<div>\n",
       "<style scoped>\n",
       "    .dataframe tbody tr th:only-of-type {\n",
       "        vertical-align: middle;\n",
       "    }\n",
       "\n",
       "    .dataframe tbody tr th {\n",
       "        vertical-align: top;\n",
       "    }\n",
       "\n",
       "    .dataframe thead th {\n",
       "        text-align: right;\n",
       "    }\n",
       "</style>\n",
       "<table border=\"1\" class=\"dataframe\">\n",
       "  <thead>\n",
       "    <tr style=\"text-align: right;\">\n",
       "      <th></th>\n",
       "      <th>co_gt</th>\n",
       "      <th>pt08_s1_co</th>\n",
       "      <th>c6h6_gt</th>\n",
       "      <th>pt08_s2_nmhc</th>\n",
       "      <th>nox_gt</th>\n",
       "      <th>pt08_s3_nox</th>\n",
       "      <th>no2_gt</th>\n",
       "      <th>pt08_s4_no2</th>\n",
       "      <th>pt08_s5_o3</th>\n",
       "      <th>t</th>\n",
       "      <th>rh</th>\n",
       "      <th>ah</th>\n",
       "    </tr>\n",
       "    <tr>\n",
       "      <th>time</th>\n",
       "      <th></th>\n",
       "      <th></th>\n",
       "      <th></th>\n",
       "      <th></th>\n",
       "      <th></th>\n",
       "      <th></th>\n",
       "      <th></th>\n",
       "      <th></th>\n",
       "      <th></th>\n",
       "      <th></th>\n",
       "      <th></th>\n",
       "      <th></th>\n",
       "    </tr>\n",
       "  </thead>\n",
       "  <tbody>\n",
       "    <tr>\n",
       "      <th>2004-03-10 18:00:00</th>\n",
       "      <td>2.6</td>\n",
       "      <td>1360.0</td>\n",
       "      <td>11.9</td>\n",
       "      <td>1046.0</td>\n",
       "      <td>166.0</td>\n",
       "      <td>1056.0</td>\n",
       "      <td>113.0</td>\n",
       "      <td>1692.0</td>\n",
       "      <td>1268.0</td>\n",
       "      <td>13.6</td>\n",
       "      <td>48.9</td>\n",
       "      <td>0.7578</td>\n",
       "    </tr>\n",
       "    <tr>\n",
       "      <th>2004-03-10 19:00:00</th>\n",
       "      <td>2.0</td>\n",
       "      <td>1292.0</td>\n",
       "      <td>9.4</td>\n",
       "      <td>955.0</td>\n",
       "      <td>103.0</td>\n",
       "      <td>1174.0</td>\n",
       "      <td>92.0</td>\n",
       "      <td>1559.0</td>\n",
       "      <td>972.0</td>\n",
       "      <td>13.3</td>\n",
       "      <td>47.7</td>\n",
       "      <td>0.7255</td>\n",
       "    </tr>\n",
       "    <tr>\n",
       "      <th>2004-03-10 20:00:00</th>\n",
       "      <td>2.2</td>\n",
       "      <td>1402.0</td>\n",
       "      <td>9.0</td>\n",
       "      <td>939.0</td>\n",
       "      <td>131.0</td>\n",
       "      <td>1140.0</td>\n",
       "      <td>114.0</td>\n",
       "      <td>1555.0</td>\n",
       "      <td>1074.0</td>\n",
       "      <td>11.9</td>\n",
       "      <td>54.0</td>\n",
       "      <td>0.7502</td>\n",
       "    </tr>\n",
       "    <tr>\n",
       "      <th>2004-03-10 21:00:00</th>\n",
       "      <td>2.2</td>\n",
       "      <td>1376.0</td>\n",
       "      <td>9.2</td>\n",
       "      <td>948.0</td>\n",
       "      <td>172.0</td>\n",
       "      <td>1092.0</td>\n",
       "      <td>122.0</td>\n",
       "      <td>1584.0</td>\n",
       "      <td>1203.0</td>\n",
       "      <td>11.0</td>\n",
       "      <td>60.0</td>\n",
       "      <td>0.7867</td>\n",
       "    </tr>\n",
       "    <tr>\n",
       "      <th>2004-03-10 22:00:00</th>\n",
       "      <td>1.6</td>\n",
       "      <td>1272.0</td>\n",
       "      <td>6.5</td>\n",
       "      <td>836.0</td>\n",
       "      <td>131.0</td>\n",
       "      <td>1205.0</td>\n",
       "      <td>116.0</td>\n",
       "      <td>1490.0</td>\n",
       "      <td>1110.0</td>\n",
       "      <td>11.2</td>\n",
       "      <td>59.6</td>\n",
       "      <td>0.7888</td>\n",
       "    </tr>\n",
       "  </tbody>\n",
       "</table>\n",
       "</div>"
      ],
      "text/plain": [
       "                     co_gt  pt08_s1_co  c6h6_gt  pt08_s2_nmhc  nox_gt  \\\n",
       "time                                                                    \n",
       "2004-03-10 18:00:00    2.6      1360.0     11.9        1046.0   166.0   \n",
       "2004-03-10 19:00:00    2.0      1292.0      9.4         955.0   103.0   \n",
       "2004-03-10 20:00:00    2.2      1402.0      9.0         939.0   131.0   \n",
       "2004-03-10 21:00:00    2.2      1376.0      9.2         948.0   172.0   \n",
       "2004-03-10 22:00:00    1.6      1272.0      6.5         836.0   131.0   \n",
       "\n",
       "                     pt08_s3_nox  no2_gt  pt08_s4_no2  pt08_s5_o3     t    rh  \\\n",
       "time                                                                            \n",
       "2004-03-10 18:00:00       1056.0   113.0       1692.0      1268.0  13.6  48.9   \n",
       "2004-03-10 19:00:00       1174.0    92.0       1559.0       972.0  13.3  47.7   \n",
       "2004-03-10 20:00:00       1140.0   114.0       1555.0      1074.0  11.9  54.0   \n",
       "2004-03-10 21:00:00       1092.0   122.0       1584.0      1203.0  11.0  60.0   \n",
       "2004-03-10 22:00:00       1205.0   116.0       1490.0      1110.0  11.2  59.6   \n",
       "\n",
       "                         ah  \n",
       "time                         \n",
       "2004-03-10 18:00:00  0.7578  \n",
       "2004-03-10 19:00:00  0.7255  \n",
       "2004-03-10 20:00:00  0.7502  \n",
       "2004-03-10 21:00:00  0.7867  \n",
       "2004-03-10 22:00:00  0.7888  "
      ]
     },
     "execution_count": 4,
     "metadata": {},
     "output_type": "execute_result"
    }
   ],
   "source": [
    "df['time'] = pd.to_datetime(df['date'] + ' ' + df['time'], format='%d/%m/%Y %H.%M.%S')\n",
    "df = df.set_index('time').sort_index().drop(columns=['date'])\n",
    "df.head()"
   ]
  },
  {
   "cell_type": "markdown",
   "metadata": {},
   "source": [
    "## Base statistic"
   ]
  },
  {
   "cell_type": "code",
   "execution_count": 5,
   "metadata": {},
   "outputs": [
    {
     "data": {
      "text/html": [
       "<div>\n",
       "<style scoped>\n",
       "    .dataframe tbody tr th:only-of-type {\n",
       "        vertical-align: middle;\n",
       "    }\n",
       "\n",
       "    .dataframe tbody tr th {\n",
       "        vertical-align: top;\n",
       "    }\n",
       "\n",
       "    .dataframe thead th {\n",
       "        text-align: right;\n",
       "    }\n",
       "</style>\n",
       "<table border=\"1\" class=\"dataframe\">\n",
       "  <thead>\n",
       "    <tr style=\"text-align: right;\">\n",
       "      <th></th>\n",
       "      <th>c6h6_gt</th>\n",
       "    </tr>\n",
       "  </thead>\n",
       "  <tbody>\n",
       "    <tr>\n",
       "      <th>co_gt</th>\n",
       "      <td>0.930008</td>\n",
       "    </tr>\n",
       "    <tr>\n",
       "      <th>pt08_s1_co</th>\n",
       "      <td>0.877430</td>\n",
       "    </tr>\n",
       "    <tr>\n",
       "      <th>pt08_s2_nmhc</th>\n",
       "      <td>0.982705</td>\n",
       "    </tr>\n",
       "    <tr>\n",
       "      <th>nox_gt</th>\n",
       "      <td>0.718344</td>\n",
       "    </tr>\n",
       "    <tr>\n",
       "      <th>pt08_s3_nox</th>\n",
       "      <td>-0.725722</td>\n",
       "    </tr>\n",
       "    <tr>\n",
       "      <th>no2_gt</th>\n",
       "      <td>0.603241</td>\n",
       "    </tr>\n",
       "    <tr>\n",
       "      <th>pt08_s4_no2</th>\n",
       "      <td>0.761805</td>\n",
       "    </tr>\n",
       "    <tr>\n",
       "      <th>pt08_s5_o3</th>\n",
       "      <td>0.861154</td>\n",
       "    </tr>\n",
       "  </tbody>\n",
       "</table>\n",
       "</div>"
      ],
      "text/plain": [
       "               c6h6_gt\n",
       "co_gt         0.930008\n",
       "pt08_s1_co    0.877430\n",
       "pt08_s2_nmhc  0.982705\n",
       "nox_gt        0.718344\n",
       "pt08_s3_nox  -0.725722\n",
       "no2_gt        0.603241\n",
       "pt08_s4_no2   0.761805\n",
       "pt08_s5_o3    0.861154"
      ]
     },
     "execution_count": 5,
     "metadata": {},
     "output_type": "execute_result"
    }
   ],
   "source": [
    "corr = pd.DataFrame(df.corr()['c6h6_gt'].drop('c6h6_gt'))\n",
    "corr = corr[(np.abs(corr.c6h6_gt) > 0.5)]\n",
    "corr"
   ]
  },
  {
   "cell_type": "markdown",
   "metadata": {},
   "source": [
    "### Baseline model - linear regression without regularization"
   ]
  },
  {
   "cell_type": "code",
   "execution_count": 31,
   "metadata": {},
   "outputs": [],
   "source": [
    "from sklearn.preprocessing import StandardScaler\n",
    "from sklearn.linear_model import LinearRegression\n",
    "from sklearn.metrics import mean_squared_error\n",
    "from sklearn.model_selection import train_test_split\n",
    "from sklearn.metrics import r2_score"
   ]
  },
  {
   "cell_type": "code",
   "execution_count": 32,
   "metadata": {},
   "outputs": [],
   "source": [
    "ss = StandardScaler()\n",
    "x = ss.fit_transform(df.drop(columns=['c6h6_gt']))\n",
    "y = ss.fit_transform(np.array(df['c6h6_gt']).reshape(-1, 1))\n",
    "\n",
    "x_train, x_test, y_train, y_test=train_test_split(x ,y,test_size=0.3, random_state=42, shuffle= False)"
   ]
  },
  {
   "cell_type": "code",
   "execution_count": 33,
   "metadata": {},
   "outputs": [
    {
     "name": "stdout",
     "output_type": "stream",
     "text": [
      "RMSE of Linear model: 0.2719667472193049\n",
      "R^2 of Linear model: 0.9074794915869189\n"
     ]
    }
   ],
   "source": [
    "lr=LinearRegression()\n",
    "lr_model=lr.fit(x_train,y_train)\n",
    "\n",
    "y_pred=lr_model.predict(x_test)\n",
    "rmse=np.sqrt(mean_squared_error(y_test,y_pred))\n",
    "print('RMSE of Linear model:',rmse)\n",
    "print('R^2 of Linear model:', r2_score(y_test, y_pred))"
   ]
  },
  {
   "cell_type": "code",
   "execution_count": null,
   "metadata": {},
   "outputs": [],
   "source": []
  },
  {
   "cell_type": "code",
   "execution_count": 9,
   "metadata": {},
   "outputs": [
    {
     "name": "stdout",
     "output_type": "stream",
     "text": [
      "RMSE of Decision Tree Regression: 0.06102829931416377\n",
      "R^2 of Decision Tree Regression: 0.9953412550856929\n"
     ]
    },
    {
     "name": "stderr",
     "output_type": "stream",
     "text": [
      "/Users/perhunivan/anaconda3/lib/python3.6/site-packages/sklearn/cross_validation.py:41: DeprecationWarning: This module was deprecated in version 0.18 in favor of the model_selection module into which all the refactored classes and functions are moved. Also note that the interface of the new CV iterators are different from that of this module. This module will be removed in 0.20.\n",
      "  \"This module will be removed in 0.20.\", DeprecationWarning)\n"
     ]
    }
   ],
   "source": [
    "from sklearn.tree import DecisionTreeRegressor\n",
    "from sklearn.cross_validation import cross_val_score\n",
    "\n",
    "model = DecisionTreeRegressor()\n",
    "model=model.fit(x_train,y_train)\n",
    "\n",
    "y_pred = model.predict(x_test)\n",
    "rmse = np.sqrt(mean_squared_error(y_pred,y_test))\n",
    "print('RMSE of Decision Tree Regression:', rmse)\n",
    "print('R^2 of Decision Tree Regression:', r2_score(y_test, y_pred))"
   ]
  },
  {
   "cell_type": "markdown",
   "metadata": {},
   "source": [
    "### Feature engineering -  basic transformations (nonlinear) "
   ]
  },
  {
   "cell_type": "code",
   "execution_count": 44,
   "metadata": {},
   "outputs": [],
   "source": [
    "from sklearn.preprocessing import PolynomialFeatures\n",
    "\n",
    "ss = StandardScaler()\n",
    "p_f = PolynomialFeatures(degree=2)\n",
    "\n",
    "x = df.drop(columns=['c6h6_gt'])\n",
    "x = p_f.fit_transform(df.drop(columns=['c6h6_gt']))\n",
    "x = ss.fit_transform(x)\n",
    "x = x.T[1::].T\n",
    "y = np.array(df['c6h6_gt']).reshape(-1, 1)\n",
    "\n",
    "x_train, x_test, y_train, y_test=train_test_split(x ,y,test_size=0.3, random_state=42,shuffle= False)"
   ]
  },
  {
   "cell_type": "code",
   "execution_count": 45,
   "metadata": {},
   "outputs": [
    {
     "name": "stdout",
     "output_type": "stream",
     "text": [
      "RMSE of Poly model: 0.09804678320095545\n",
      "R^2 of Poly model: 0.9997842008590925\n"
     ]
    }
   ],
   "source": [
    "lr=LinearRegression()\n",
    "lr_model=lr.fit(x_train,y_train)\n",
    "\n",
    "y_pred=lr_model.predict(x_test)\n",
    "\n",
    "rmse=np.sqrt(mean_squared_error(y_test,y_pred))\n",
    "\n",
    "print('RMSE of Poly model:',rmse)\n",
    "print('R^2 of Poly model:', r2_score(y_test, y_pred))"
   ]
  },
  {
   "cell_type": "markdown",
   "metadata": {},
   "source": [
    "### Non-classic regression "
   ]
  },
  {
   "cell_type": "code",
   "execution_count": 46,
   "metadata": {},
   "outputs": [
    {
     "name": "stderr",
     "output_type": "stream",
     "text": [
      "/Users/perhunivan/anaconda3/lib/python3.6/site-packages/sklearn/utils/validation.py:578: DataConversionWarning: A column-vector y was passed when a 1d array was expected. Please change the shape of y to (n_samples, ), for example using ravel().\n",
      "  y = column_or_1d(y, warn=True)\n"
     ]
    },
    {
     "name": "stdout",
     "output_type": "stream",
     "text": [
      "Mean Squared Error rbf: 20.892605567707786\n",
      "Mean Squared Error lin: 0.01840895388824787\n",
      "Mean Squared Error: poly 28.83003832765449\n",
      "Mean Squared Error: sgd 0.29970887262861184\n"
     ]
    },
    {
     "name": "stderr",
     "output_type": "stream",
     "text": [
      "/Users/perhunivan/anaconda3/lib/python3.6/site-packages/sklearn/linear_model/stochastic_gradient.py:128: FutureWarning: max_iter and tol parameters have been added in <class 'sklearn.linear_model.stochastic_gradient.SGDRegressor'> in 0.19. If both are left unset, they default to max_iter=5 and tol=None. If tol is not None, max_iter defaults to max_iter=1000. From 0.21, default max_iter will be 1000, and default tol will be 1e-3.\n",
      "  \"and default tol will be 1e-3.\" % type(self), FutureWarning)\n"
     ]
    }
   ],
   "source": [
    "import numpy as np\n",
    "from sklearn.svm import SVR\n",
    "from sklearn.linear_model import SGDRegressor as sgd\n",
    "import matplotlib.pyplot as plt\n",
    "\n",
    "svr_rbf = SVR(kernel='rbf', gamma=0.1)\n",
    "svr_lin = SVR(kernel='linear')\n",
    "svr_poly = SVR(kernel='poly',degree=2)\n",
    "sgd = sgd()\n",
    "\n",
    "\n",
    "y_rbf = svr_rbf.fit(x_train, y_train).predict(x_test)\n",
    "y_lin = svr_lin.fit(x_train, y_train).predict(x_test)\n",
    "y_poly = svr_poly.fit(x_train, y_train).predict(x_test)\n",
    "y_sgd = sgd.fit(x_train, y_train).predict(x_test)\n",
    "\n",
    "\n",
    "\n",
    "print(\"Mean Squared Error rbf:\",mean_squared_error(y_rbf, y_test))\n",
    "print(\"Mean Squared Error lin:\",mean_squared_error(y_lin, y_test))\n",
    "print(\"Mean Squared Error: poly\",mean_squared_error(y_poly, y_test))\n",
    "print(\"Mean Squared Error: sgd\",mean_squared_error(y_sgd, y_test))"
   ]
  },
  {
   "cell_type": "markdown",
   "metadata": {},
   "source": [
    "### Feature importance, hyperparameters tuning"
   ]
  },
  {
   "cell_type": "code",
   "execution_count": 29,
   "metadata": {},
   "outputs": [
    {
     "data": {
      "text/plain": [
       "{'C': 10, 'epsilon': 0.2, 'gamma': 0.0001, 'kernel': 'rbf'}"
      ]
     },
     "execution_count": 29,
     "metadata": {},
     "output_type": "execute_result"
    }
   ],
   "source": [
    "from sklearn.svm import SVR\n",
    "import numpy as np\n",
    "from sklearn.model_selection import GridSearchCV\n",
    "\n",
    "parameters = {'kernel': \n",
    "              (\n",
    "                  'linear', \n",
    "                  'rbf',\n",
    "                  'poly'\n",
    "              ), \n",
    "              'C':[1.5, 10],\n",
    "              'gamma': [1e-7, 1e-4],\n",
    "              'epsilon':[0.1,0.2]}\n",
    "svr = SVR()\n",
    "clf = GridSearchCV(svr, parameters)\n",
    "clf.fit(x,y.ravel())\n",
    "clf.best_params_"
   ]
  },
  {
   "cell_type": "code",
   "execution_count": null,
   "metadata": {},
   "outputs": [],
   "source": []
  },
  {
   "cell_type": "code",
   "execution_count": null,
   "metadata": {},
   "outputs": [],
   "source": []
  }
 ],
 "metadata": {
  "kernelspec": {
   "display_name": "Python 3",
   "language": "python",
   "name": "python3"
  },
  "language_info": {
   "codemirror_mode": {
    "name": "ipython",
    "version": 3
   },
   "file_extension": ".py",
   "mimetype": "text/x-python",
   "name": "python",
   "nbconvert_exporter": "python",
   "pygments_lexer": "ipython3",
   "version": "3.6.5"
  }
 },
 "nbformat": 4,
 "nbformat_minor": 2
}
