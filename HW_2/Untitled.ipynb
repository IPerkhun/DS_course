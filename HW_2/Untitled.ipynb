{
 "cells": [
  {
   "cell_type": "code",
   "execution_count": 2,
   "metadata": {},
   "outputs": [],
   "source": [
    "import pandas as pd\n",
    "import numpy as np"
   ]
  },
  {
   "cell_type": "code",
   "execution_count": 3,
   "metadata": {},
   "outputs": [
    {
     "name": "stdout",
     "output_type": "stream",
     "text": [
      "<class 'pandas.core.frame.DataFrame'>\n",
      "RangeIndex: 9471 entries, 0 to 9470\n",
      "Data columns (total 17 columns):\n",
      "Date             9357 non-null object\n",
      "Time             9357 non-null object\n",
      "CO(GT)           7765 non-null object\n",
      "PT08.S1(CO)      8991 non-null float64\n",
      "NMHC(GT)         914 non-null float64\n",
      "C6H6(GT)         9357 non-null object\n",
      "PT08.S2(NMHC)    8991 non-null float64\n",
      "NOx(GT)          7718 non-null float64\n",
      "PT08.S3(NOx)     8991 non-null float64\n",
      "NO2(GT)          7715 non-null float64\n",
      "PT08.S4(NO2)     8991 non-null float64\n",
      "PT08.S5(O3)      8991 non-null float64\n",
      "T                8991 non-null object\n",
      "RH               8991 non-null object\n",
      "AH               8991 non-null object\n",
      "Unnamed: 15      0 non-null float64\n",
      "Unnamed: 16      0 non-null float64\n",
      "dtypes: float64(10), object(7)\n",
      "memory usage: 1.2+ MB\n",
      "None\n"
     ]
    },
    {
     "data": {
      "text/html": [
       "<div>\n",
       "<style scoped>\n",
       "    .dataframe tbody tr th:only-of-type {\n",
       "        vertical-align: middle;\n",
       "    }\n",
       "\n",
       "    .dataframe tbody tr th {\n",
       "        vertical-align: top;\n",
       "    }\n",
       "\n",
       "    .dataframe thead th {\n",
       "        text-align: right;\n",
       "    }\n",
       "</style>\n",
       "<table border=\"1\" class=\"dataframe\">\n",
       "  <thead>\n",
       "    <tr style=\"text-align: right;\">\n",
       "      <th></th>\n",
       "      <th>Date</th>\n",
       "      <th>Time</th>\n",
       "      <th>CO(GT)</th>\n",
       "      <th>PT08.S1(CO)</th>\n",
       "      <th>NMHC(GT)</th>\n",
       "      <th>C6H6(GT)</th>\n",
       "      <th>PT08.S2(NMHC)</th>\n",
       "      <th>NOx(GT)</th>\n",
       "      <th>PT08.S3(NOx)</th>\n",
       "      <th>NO2(GT)</th>\n",
       "      <th>PT08.S4(NO2)</th>\n",
       "      <th>PT08.S5(O3)</th>\n",
       "      <th>T</th>\n",
       "      <th>RH</th>\n",
       "      <th>AH</th>\n",
       "      <th>Unnamed: 15</th>\n",
       "      <th>Unnamed: 16</th>\n",
       "    </tr>\n",
       "  </thead>\n",
       "  <tbody>\n",
       "    <tr>\n",
       "      <th>0</th>\n",
       "      <td>10/03/2004</td>\n",
       "      <td>18.00.00</td>\n",
       "      <td>2,6</td>\n",
       "      <td>1360.0</td>\n",
       "      <td>150.0</td>\n",
       "      <td>11,9</td>\n",
       "      <td>1046.0</td>\n",
       "      <td>166.0</td>\n",
       "      <td>1056.0</td>\n",
       "      <td>113.0</td>\n",
       "      <td>1692.0</td>\n",
       "      <td>1268.0</td>\n",
       "      <td>13,6</td>\n",
       "      <td>48,9</td>\n",
       "      <td>0,7578</td>\n",
       "      <td>NaN</td>\n",
       "      <td>NaN</td>\n",
       "    </tr>\n",
       "    <tr>\n",
       "      <th>1</th>\n",
       "      <td>10/03/2004</td>\n",
       "      <td>19.00.00</td>\n",
       "      <td>2</td>\n",
       "      <td>1292.0</td>\n",
       "      <td>112.0</td>\n",
       "      <td>9,4</td>\n",
       "      <td>955.0</td>\n",
       "      <td>103.0</td>\n",
       "      <td>1174.0</td>\n",
       "      <td>92.0</td>\n",
       "      <td>1559.0</td>\n",
       "      <td>972.0</td>\n",
       "      <td>13,3</td>\n",
       "      <td>47,7</td>\n",
       "      <td>0,7255</td>\n",
       "      <td>NaN</td>\n",
       "      <td>NaN</td>\n",
       "    </tr>\n",
       "    <tr>\n",
       "      <th>2</th>\n",
       "      <td>10/03/2004</td>\n",
       "      <td>20.00.00</td>\n",
       "      <td>2,2</td>\n",
       "      <td>1402.0</td>\n",
       "      <td>88.0</td>\n",
       "      <td>9,0</td>\n",
       "      <td>939.0</td>\n",
       "      <td>131.0</td>\n",
       "      <td>1140.0</td>\n",
       "      <td>114.0</td>\n",
       "      <td>1555.0</td>\n",
       "      <td>1074.0</td>\n",
       "      <td>11,9</td>\n",
       "      <td>54,0</td>\n",
       "      <td>0,7502</td>\n",
       "      <td>NaN</td>\n",
       "      <td>NaN</td>\n",
       "    </tr>\n",
       "    <tr>\n",
       "      <th>3</th>\n",
       "      <td>10/03/2004</td>\n",
       "      <td>21.00.00</td>\n",
       "      <td>2,2</td>\n",
       "      <td>1376.0</td>\n",
       "      <td>80.0</td>\n",
       "      <td>9,2</td>\n",
       "      <td>948.0</td>\n",
       "      <td>172.0</td>\n",
       "      <td>1092.0</td>\n",
       "      <td>122.0</td>\n",
       "      <td>1584.0</td>\n",
       "      <td>1203.0</td>\n",
       "      <td>11,0</td>\n",
       "      <td>60,0</td>\n",
       "      <td>0,7867</td>\n",
       "      <td>NaN</td>\n",
       "      <td>NaN</td>\n",
       "    </tr>\n",
       "    <tr>\n",
       "      <th>4</th>\n",
       "      <td>10/03/2004</td>\n",
       "      <td>22.00.00</td>\n",
       "      <td>1,6</td>\n",
       "      <td>1272.0</td>\n",
       "      <td>51.0</td>\n",
       "      <td>6,5</td>\n",
       "      <td>836.0</td>\n",
       "      <td>131.0</td>\n",
       "      <td>1205.0</td>\n",
       "      <td>116.0</td>\n",
       "      <td>1490.0</td>\n",
       "      <td>1110.0</td>\n",
       "      <td>11,2</td>\n",
       "      <td>59,6</td>\n",
       "      <td>0,7888</td>\n",
       "      <td>NaN</td>\n",
       "      <td>NaN</td>\n",
       "    </tr>\n",
       "  </tbody>\n",
       "</table>\n",
       "</div>"
      ],
      "text/plain": [
       "         Date      Time CO(GT)  PT08.S1(CO)  NMHC(GT) C6H6(GT)  PT08.S2(NMHC)  \\\n",
       "0  10/03/2004  18.00.00    2,6       1360.0     150.0     11,9         1046.0   \n",
       "1  10/03/2004  19.00.00      2       1292.0     112.0      9,4          955.0   \n",
       "2  10/03/2004  20.00.00    2,2       1402.0      88.0      9,0          939.0   \n",
       "3  10/03/2004  21.00.00    2,2       1376.0      80.0      9,2          948.0   \n",
       "4  10/03/2004  22.00.00    1,6       1272.0      51.0      6,5          836.0   \n",
       "\n",
       "   NOx(GT)  PT08.S3(NOx)  NO2(GT)  PT08.S4(NO2)  PT08.S5(O3)     T    RH  \\\n",
       "0    166.0        1056.0    113.0        1692.0       1268.0  13,6  48,9   \n",
       "1    103.0        1174.0     92.0        1559.0        972.0  13,3  47,7   \n",
       "2    131.0        1140.0    114.0        1555.0       1074.0  11,9  54,0   \n",
       "3    172.0        1092.0    122.0        1584.0       1203.0  11,0  60,0   \n",
       "4    131.0        1205.0    116.0        1490.0       1110.0  11,2  59,6   \n",
       "\n",
       "       AH  Unnamed: 15  Unnamed: 16  \n",
       "0  0,7578          NaN          NaN  \n",
       "1  0,7255          NaN          NaN  \n",
       "2  0,7502          NaN          NaN  \n",
       "3  0,7867          NaN          NaN  \n",
       "4  0,7888          NaN          NaN  "
      ]
     },
     "execution_count": 3,
     "metadata": {},
     "output_type": "execute_result"
    }
   ],
   "source": [
    "df = pd.read_csv('../res/AirQualityUCI/AirQualityUCI.csv', sep=';', na_values=-200)\n",
    "print(df.info())\n",
    "df.head()"
   ]
  },
  {
   "cell_type": "code",
   "execution_count": 4,
   "metadata": {
    "scrolled": true
   },
   "outputs": [],
   "source": [
    "names = ['date',\n",
    " 'time',\n",
    " 'co_gt',\n",
    " 'pt08_s1_co',\n",
    " 'nmhc_gt',\n",
    " 'c6h6_gt',\n",
    " 'pt08_s2_nmhc',\n",
    " 'nox_gt',\n",
    " 'pt08_s3_nox',\n",
    " 'no2_gt',\n",
    " 'pt08_s4_no2',\n",
    " 'pt08_s5_o3',\n",
    " 't',\n",
    " 'rh',\n",
    " 'ah',\n",
    " 'Unnamed_1',\n",
    " 'Unnamed_2']\n",
    "df = df.rename(columns= {last_key: new_key for last_key, new_key in zip(df.keys(), names)})\n"
   ]
  },
  {
   "cell_type": "markdown",
   "metadata": {},
   "source": [
    "стоит убрать столбец `nmhc_gt` так как он не несет информативности и имеет пропуски в 90% случаях "
   ]
  },
  {
   "cell_type": "code",
   "execution_count": 5,
   "metadata": {},
   "outputs": [],
   "source": [
    "df = df.drop(columns=['Unnamed_1', 'Unnamed_2', 'nmhc_gt'])\n",
    "df = df.dropna(thresh=len(df.keys()))"
   ]
  },
  {
   "cell_type": "code",
   "execution_count": 6,
   "metadata": {},
   "outputs": [
    {
     "name": "stdout",
     "output_type": "stream",
     "text": [
      "<class 'pandas.core.frame.DataFrame'>\n",
      "Int64Index: 7024 entries, 0 to 9356\n",
      "Data columns (total 14 columns):\n",
      "date            7024 non-null datetime64[ns]\n",
      "time            7024 non-null datetime64[ns]\n",
      "co_gt           7024 non-null float64\n",
      "pt08_s1_co      7024 non-null float64\n",
      "c6h6_gt         7024 non-null float64\n",
      "pt08_s2_nmhc    7024 non-null float64\n",
      "nox_gt          7024 non-null float64\n",
      "pt08_s3_nox     7024 non-null float64\n",
      "no2_gt          7024 non-null float64\n",
      "pt08_s4_no2     7024 non-null float64\n",
      "pt08_s5_o3      7024 non-null float64\n",
      "t               7024 non-null float64\n",
      "rh              7024 non-null float64\n",
      "ah              7024 non-null float64\n",
      "dtypes: datetime64[ns](2), float64(12)\n",
      "memory usage: 823.1 KB\n"
     ]
    },
    {
     "data": {
      "text/plain": [
       "date            0\n",
       "time            0\n",
       "co_gt           0\n",
       "pt08_s1_co      0\n",
       "c6h6_gt         0\n",
       "pt08_s2_nmhc    0\n",
       "nox_gt          0\n",
       "pt08_s3_nox     0\n",
       "no2_gt          0\n",
       "pt08_s4_no2     0\n",
       "pt08_s5_o3      0\n",
       "t               0\n",
       "rh              0\n",
       "ah              0\n",
       "dtype: int64"
      ]
     },
     "execution_count": 6,
     "metadata": {},
     "output_type": "execute_result"
    }
   ],
   "source": [
    "df['date'] = pd.to_datetime(df.date, format='%d/%m/%Y')\n",
    "df['time'] = pd.to_datetime(df.time, format='%H.%M.%S')\n",
    "df.co_gt = pd.to_numeric(df.co_gt.str.replace(',', '.'))\n",
    "df.c6h6_gt = pd.to_numeric(df.c6h6_gt.str.replace(',', '.'))\n",
    "df.t = pd.to_numeric(df.t.str.replace(',', '.'))\n",
    "df.rh = pd.to_numeric(df.rh.str.replace(',', '.'))\n",
    "df.ah = pd.to_numeric(df.ah.str.replace(',', '.'))\n",
    "df.info()\n",
    "df.shape[0] - df.dropna().count()"
   ]
  },
  {
   "cell_type": "code",
   "execution_count": 7,
   "metadata": {},
   "outputs": [
    {
     "data": {
      "text/plain": [
       "<matplotlib.axes._subplots.AxesSubplot at 0x11e2c5828>"
      ]
     },
     "execution_count": 7,
     "metadata": {},
     "output_type": "execute_result"
    }
   ],
   "source": [
    "import seaborn as sns\n",
    "sns.heatmap(df.corr(), annot= True)"
   ]
  },
  {
   "cell_type": "code",
   "execution_count": 8,
   "metadata": {},
   "outputs": [
    {
     "data": {
      "text/html": [
       "<div>\n",
       "<style scoped>\n",
       "    .dataframe tbody tr th:only-of-type {\n",
       "        vertical-align: middle;\n",
       "    }\n",
       "\n",
       "    .dataframe tbody tr th {\n",
       "        vertical-align: top;\n",
       "    }\n",
       "\n",
       "    .dataframe thead th {\n",
       "        text-align: right;\n",
       "    }\n",
       "</style>\n",
       "<table border=\"1\" class=\"dataframe\">\n",
       "  <thead>\n",
       "    <tr style=\"text-align: right;\">\n",
       "      <th></th>\n",
       "      <th>c6h6_gt</th>\n",
       "    </tr>\n",
       "  </thead>\n",
       "  <tbody>\n",
       "    <tr>\n",
       "      <th>pt08_s1_co</th>\n",
       "      <td>0.878285</td>\n",
       "    </tr>\n",
       "    <tr>\n",
       "      <th>pt08_s2_nmhc</th>\n",
       "      <td>0.982213</td>\n",
       "    </tr>\n",
       "    <tr>\n",
       "      <th>nox_gt</th>\n",
       "      <td>0.719871</td>\n",
       "    </tr>\n",
       "    <tr>\n",
       "      <th>no2_gt</th>\n",
       "      <td>0.604771</td>\n",
       "    </tr>\n",
       "    <tr>\n",
       "      <th>pt08_s4_no2</th>\n",
       "      <td>0.764879</td>\n",
       "    </tr>\n",
       "    <tr>\n",
       "      <th>pt08_s5_o3</th>\n",
       "      <td>0.861747</td>\n",
       "    </tr>\n",
       "  </tbody>\n",
       "</table>\n",
       "</div>"
      ],
      "text/plain": [
       "               c6h6_gt\n",
       "pt08_s1_co    0.878285\n",
       "pt08_s2_nmhc  0.982213\n",
       "nox_gt        0.719871\n",
       "no2_gt        0.604771\n",
       "pt08_s4_no2   0.764879\n",
       "pt08_s5_o3    0.861747"
      ]
     },
     "execution_count": 8,
     "metadata": {},
     "output_type": "execute_result"
    }
   ],
   "source": [
    "corr = pd.DataFrame(df.corr().c6h6_gt.drop('c6h6_gt'))\n",
    "corr[(corr.c6h6_gt > np.abs(0.5))]"
   ]
  },
  {
   "cell_type": "code",
   "execution_count": 9,
   "metadata": {},
   "outputs": [],
   "source": [
    "from sklearn.preprocessing import StandardScaler     \n",
    "from sklearn.model_selection import train_test_split\n",
    "from sklearn.linear_model import LinearRegression\n",
    "from sklearn.metrics import mean_squared_error"
   ]
  },
  {
   "cell_type": "code",
   "execution_count": 19,
   "metadata": {},
   "outputs": [
    {
     "name": "stdout",
     "output_type": "stream",
     "text": [
      "RMSE of Linear model: 1.3407886388772874\n"
     ]
    }
   ],
   "source": [
    "# x = StandardScaler().fit_transform(df.drop(columns=['c6h6_gt', 'date', 'time']))\n",
    "x = StandardScaler().fit_transform(df[list(corr[(corr.c6h6_gt > np.abs(0.5))].index)])\n",
    "y = df.c6h6_gt\n",
    "x_train, x_test, y_train, y_test=train_test_split(x ,y,test_size=0.3, random_state=42)\n",
    "\n",
    "lr=LinearRegression()\n",
    "lr_model=lr.fit(x_train,y_train)\n",
    "\n",
    "y_pred=lr_model.predict(x_test)\n",
    "rmse=np.sqrt(mean_squared_error(y_test,y_pred))\n",
    "print('RMSE of Linear model:',rmse)"
   ]
  },
  {
   "cell_type": "code",
   "execution_count": 20,
   "metadata": {},
   "outputs": [],
   "source": [
    "from sklearn.tree import DecisionTreeRegressor\n",
    "from sklearn.cross_validation import cross_val_score\n",
    "from sklearn.model_selection import GridSearchCV \n",
    "model = DecisionTreeRegressor()"
   ]
  },
  {
   "cell_type": "code",
   "execution_count": 21,
   "metadata": {},
   "outputs": [
    {
     "name": "stdout",
     "output_type": "stream",
     "text": [
      "RMSE of Decision Tree Regression: 0.2575243397792676\n"
     ]
    }
   ],
   "source": [
    "model=model.fit(x_train,y_train)\n",
    "y_pred = model.predict(x_test)\n",
    "rmse = np.sqrt(mean_squared_error(y_pred,y_test))\n",
    "print('RMSE of Decision Tree Regression:', rmse)"
   ]
  },
  {
   "cell_type": "code",
   "execution_count": 26,
   "metadata": {},
   "outputs": [
    {
     "name": "stdout",
     "output_type": "stream",
     "text": [
      "Degree -  2\n",
      "RMSE of training set is 0.06226608107991607\n",
      "R2 score of training set is 0.9999314590642818\n",
      "RMSE of test set is 0.07212303250251242\n",
      "R2 score of test set is 0.9999038108934262\n",
      "\n",
      "\n",
      "Degree -  3\n",
      "RMSE of training set is 0.030674401281807654\n",
      "R2 score of training set is 0.9999833659059433\n",
      "RMSE of test set is 0.03132435349950685\n",
      "R2 score of test set is 0.9999818556186149\n",
      "\n",
      "\n"
     ]
    }
   ],
   "source": [
    "from sklearn.preprocessing import PolynomialFeatures\n",
    "from sklearn.metrics import r2_score, \n",
    "\n",
    "def create_polynomial_regression_model(x, y, degree):\n",
    "    x_train, x_test, y_train, y_test=train_test_split(x ,y,test_size=0.3, random_state=42)\n",
    "    poly_features = PolynomialFeatures(degree=degree)\n",
    "    x_train_poly = poly_features.fit_transform(x_train)\n",
    "    x_test_poly = poly_features.fit_transform(x_test)\n",
    "\n",
    "    poly_model = LinearRegression()\n",
    "    poly_model.fit(x_train_poly, y_train)\n",
    "\n",
    "\n",
    "    y_train_predicted = poly_model.predict(x_train_poly)\n",
    "    y_test_predict = poly_model.predict(x_test_poly)\n",
    "    \n",
    "    \n",
    "    rmse_train = np.sqrt(mean_squared_error(y_train, y_train_predicted))\n",
    "    rmse_test = np.sqrt(mean_squared_error(y_test, y_test_predict))\n",
    "    \n",
    "    \n",
    "    r2_train = r2_score(y_train, y_train_predicted)    \n",
    "    r2_test = r2_score(y_test, y_test_predict)\n",
    "\n",
    "    \n",
    "    print(\"RMSE of training set is {}\".format(rmse_train))\n",
    "    print(\"R2 score of training set is {}\".format(r2_train))\n",
    "    print(\"RMSE of test set is {}\".format(rmse_test))\n",
    "    print(\"R2 score of test set is {}\".format(r2_test))\n",
    "\n",
    "\n",
    "for i in range(2, 4):\n",
    "    print('Degree - ', i)\n",
    "    create_polynomial_regression_model(x, y, i)\n",
    "    print(\"\\n\")"
   ]
  },
  {
   "cell_type": "code",
   "execution_count": null,
   "metadata": {},
   "outputs": [],
   "source": []
  }
 ],
 "metadata": {
  "kernelspec": {
   "display_name": "Python 3",
   "language": "python",
   "name": "python3"
  },
  "language_info": {
   "codemirror_mode": {
    "name": "ipython",
    "version": 3
   },
   "file_extension": ".py",
   "mimetype": "text/x-python",
   "name": "python",
   "nbconvert_exporter": "python",
   "pygments_lexer": "ipython3",
   "version": "3.6.5"
  }
 },
 "nbformat": 4,
 "nbformat_minor": 2
}
