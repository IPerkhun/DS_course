{
 "cells": [
  {
   "cell_type": "code",
   "execution_count": 11,
   "metadata": {},
   "outputs": [
    {
     "name": "stdout",
     "output_type": "stream",
     "text": [
      "10\n",
      "5\n",
      "\n",
      "\n",
      "\n",
      "\n",
      "8\n",
      "4\n",
      "\n",
      "\n",
      "\n",
      "\n",
      "6\n",
      "\n",
      "\n",
      "4\n",
      "\n",
      "\n"
     ]
    }
   ],
   "source": [
    "def F(n):\n",
    "    if n > 3:\n",
    "        print(n)\n",
    "        F(n//2)\n",
    "        print('\\n')\n",
    "        F(n-2)\n",
    "        \n",
    "F(10)"
   ]
  },
  {
   "cell_type": "code",
   "execution_count": null,
   "metadata": {},
   "outputs": [],
   "source": []
  }
 ],
 "metadata": {
  "kernelspec": {
   "display_name": "Python 3",
   "language": "python",
   "name": "python3"
  },
  "language_info": {
   "codemirror_mode": {
    "name": "ipython",
    "version": 3
   },
   "file_extension": ".py",
   "mimetype": "text/x-python",
   "name": "python",
   "nbconvert_exporter": "python",
   "pygments_lexer": "ipython3",
   "version": "3.7.5"
  }
 },
 "nbformat": 4,
 "nbformat_minor": 2
}
