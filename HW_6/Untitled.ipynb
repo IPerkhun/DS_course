{
 "cells": [
  {
   "cell_type": "markdown",
   "metadata": {},
   "source": [
    "## Load data"
   ]
  },
  {
   "cell_type": "code",
   "execution_count": 258,
   "metadata": {},
   "outputs": [],
   "source": [
    "import os\n",
    "\n",
    "\n",
    "data = []\n",
    "for name in os.listdir('../res/20_newsgroups'):\n",
    "    if '.csv' not in name:\n",
    "        with open('../res/20_newsgroups/' + name, encoding='latin') as d:\n",
    "            data.append({'data': d.read(), 'tag': name})\n",
    "\n",
    "\n",
    "\n"
   ]
  },
  {
   "cell_type": "code",
   "execution_count": 259,
   "metadata": {},
   "outputs": [],
   "source": [
    "import re\n",
    "import pandas as pd\n",
    "\n",
    "pattern = 'Newsgroup: [^\\n]+\\n[D|d]ocument_id: [^\\n]+\\nFrom: [^\\n]+\\nSubject: [^\\n]+\\n\\\n",
    "|Newsgroup: [^\\n]+\\n[D|d]ocument_id: [^\\n]+\\nSubject: [^\\n]+\\nFrom: [^\\n]+'\n",
    "\n",
    "res = []\n",
    "for d in data:\n",
    "    news = (re.split(pattern, d['data']))\n",
    "    for n in news:\n",
    "        res.append({'text':n, 'tag': d['tag']})\n",
    "df = pd.DataFrame(res)"
   ]
  },
  {
   "cell_type": "code",
   "execution_count": 260,
   "metadata": {},
   "outputs": [],
   "source": [
    "from sklearn.feature_extraction.text import CountVectorizer, TfidfVectorizer"
   ]
  },
  {
   "cell_type": "code",
   "execution_count": 261,
   "metadata": {},
   "outputs": [
    {
     "data": {
      "text/plain": [
       "rec.sport.hockey.txt            1999\n",
       "soc.religion.christian.txt      1995\n",
       "rec.motorcycles.txt             1989\n",
       "rec.sport.baseball.txt          1989\n",
       "sci.crypt.txt                   1983\n",
       "sci.med.txt                     1981\n",
       "rec.autos.txt                   1981\n",
       "sci.space.txt                   1975\n",
       "comp.os.ms-windows.misc.txt     1971\n",
       "comp.sys.ibm.pc.hardware.txt    1965\n",
       "sci.electronics.txt             1963\n",
       "comp.windows.x.txt              1961\n",
       "comp.graphics.txt               1947\n",
       "misc.forsale.txt                1945\n",
       "comp.sys.mac.hardware.txt       1923\n",
       "talk.politics.mideast.txt       1881\n",
       "talk.politics.guns.txt          1821\n",
       "alt.atheism.txt                 1599\n",
       "talk.politics.misc.txt          1551\n",
       "talk.religion.misc.txt          1257\n",
       "Name: tag, dtype: int64"
      ]
     },
     "execution_count": 261,
     "metadata": {},
     "output_type": "execute_result"
    }
   ],
   "source": []
  },
  {
   "cell_type": "code",
   "execution_count": null,
   "metadata": {},
   "outputs": [],
   "source": []
  },
  {
   "cell_type": "code",
   "execution_count": null,
   "metadata": {},
   "outputs": [],
   "source": []
  }
 ],
 "metadata": {
  "kernelspec": {
   "display_name": "Python 3",
   "language": "python",
   "name": "python3"
  },
  "language_info": {
   "codemirror_mode": {
    "name": "ipython",
    "version": 3
   },
   "file_extension": ".py",
   "mimetype": "text/x-python",
   "name": "python",
   "nbconvert_exporter": "python",
   "pygments_lexer": "ipython3",
   "version": "3.7.5"
  }
 },
 "nbformat": 4,
 "nbformat_minor": 2
}
